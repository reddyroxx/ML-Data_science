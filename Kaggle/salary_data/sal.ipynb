{
 "cells": [
  {
   "cell_type": "code",
   "execution_count": 1,
   "metadata": {
    "collapsed": true
   },
   "outputs": [],
   "source": [
    "import numpy as np\n",
    "import pandas as pd\n",
    "from sklearn.linear_model import LinearRegression\n",
    "from sklearn.model_selection import train_test_split\n",
    "from sklearn import metrics"
   ]
  },
  {
   "cell_type": "code",
   "execution_count": 2,
   "metadata": {
    "collapsed": true
   },
   "outputs": [],
   "source": [
    "df = pd.read_csv(\"sal_data.csv\")\n",
    "y = df.iloc[:,:-1].values #y = Salary\n",
    "x = df.iloc[:,1].values\n",
    "X = x.reshape(-1,1) #X = Years_Experience"
   ]
  },
  {
   "cell_type": "code",
   "execution_count": 4,
   "metadata": {},
   "outputs": [
    {
     "name": "stdout",
     "output_type": "stream",
     "text": [
      "When training size is 50% and test is 50%\n",
      "\n",
      "The MSE value is\n",
      "51792789.27278869\n",
      "\n",
      "The RMSE value is\n",
      "7196.720730498627\n"
     ]
    }
   ],
   "source": [
    "print(\"When training size is 50% and test is 50%\");\n",
    "X_train, X_test, y_train, y_test = train_test_split(X, y, random_state=1, train_size = 0.5, test_size = 0.5)\n",
    "# Linear Regression Model\n",
    "linreg = LinearRegression()\n",
    "linreg.fit(X_train, y_train)\n",
    "y_pred = linreg.predict(X_test)\n",
    "print(\"\\nThe MSE value is\")\n",
    "print(metrics.mean_squared_error(y_test, y_pred))\n",
    "print(\"\\nThe RMSE value is\")\n",
    "print(np.sqrt(metrics.mean_squared_error(y_test, y_pred)))"
   ]
  },
  {
   "cell_type": "code",
   "execution_count": 5,
   "metadata": {},
   "outputs": [
    {
     "name": "stdout",
     "output_type": "stream",
     "text": [
      "\n",
      " When training size is 70% and test is 30%\n",
      "\n",
      "The MSE value is\n",
      "39139215.99958858\n",
      "\n",
      "The RMSE value is\n",
      "6256.134269625979\n"
     ]
    }
   ],
   "source": [
    "print(\"\\n When training size is 70% and test is 30%\");\n",
    "X_train, X_test, y_train, y_test = train_test_split(X, y, random_state=1,train_size = 0.7, test_size = 0.3)\n",
    "# Linear Regression Model\n",
    "linreg = LinearRegression()\n",
    "linreg.fit(X_train, y_train)\n",
    "y_pred = linreg.predict(X_test)\n",
    "print(\"\\nThe MSE value is\")\n",
    "print(metrics.mean_squared_error(y_test, y_pred))\n",
    "print(\"\\nThe RMSE value is\")\n",
    "print(np.sqrt(metrics.mean_squared_error(y_test, y_pred)))"
   ]
  },
  {
   "cell_type": "code",
   "execution_count": 6,
   "metadata": {},
   "outputs": [
    {
     "name": "stdout",
     "output_type": "stream",
     "text": [
      "\n",
      "When training size is 80% and test is 20%\n",
      "\n",
      "The MSE value is\n",
      "51338023.49224842\n",
      "\n",
      "The RMSE value is\n",
      "7165.055721503387\n"
     ]
    }
   ],
   "source": [
    "print(\"\\nWhen training size is 80% and test is 20%\");\n",
    "X_train, X_test, y_train, y_test = train_test_split(X, y, random_state=1,train_size = 0.8, test_size = 0.2)\n",
    "linreg = LinearRegression()\n",
    "linreg.fit(X_train, y_train)\n",
    "y_pred = linreg.predict(X_test)\n",
    "print(\"\\nThe MSE value is\")\n",
    "print(metrics.mean_squared_error(y_test, y_pred))\n",
    "print(\"\\nThe RMSE value is\")\n",
    "print(np.sqrt(metrics.mean_squared_error(y_test, y_pred)))"
   ]
  },
  {
   "cell_type": "code",
   "execution_count": 8,
   "metadata": {},
   "outputs": [
    {
     "name": "stdout",
     "output_type": "stream",
     "text": [
      "\n",
      " When training size is 80% and test is 20%\n",
      "Defined function mse value:  [51338023.49224842]\n",
      "Definde function rmse value:  [7165.0557215]\n"
     ]
    }
   ],
   "source": [
    "def rmsef(i,j):\n",
    "    len_i = len(i)\n",
    "    m = 0\n",
    "    for k in range (len_i):\n",
    "        m += (i[k]-j[k])**2\n",
    "    mse = m/len_i\n",
    "    print(\"Defined function mse value: \",mse)\n",
    "    rmse = mse**(0.5)\n",
    "    print(\"Definde function rmse value: \",rmse)\n",
    "print(\"\\n When training size is 80% and test is 20%\")\n",
    "rmsef(y_test,y_pred)"
   ]
  },
  {
   "cell_type": "code",
   "execution_count": null,
   "metadata": {
    "collapsed": true
   },
   "outputs": [],
   "source": []
  }
 ],
 "metadata": {
  "kernelspec": {
   "display_name": "Python 3",
   "language": "python",
   "name": "python3"
  },
  "language_info": {
   "codemirror_mode": {
    "name": "ipython",
    "version": 3
   },
   "file_extension": ".py",
   "mimetype": "text/x-python",
   "name": "python",
   "nbconvert_exporter": "python",
   "pygments_lexer": "ipython3",
   "version": "3.6.3"
  }
 },
 "nbformat": 4,
 "nbformat_minor": 2
}
