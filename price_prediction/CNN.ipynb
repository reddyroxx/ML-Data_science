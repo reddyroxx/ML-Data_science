{
 "cells": [
  {
   "cell_type": "code",
   "execution_count": 36,
   "metadata": {
    "collapsed": true
   },
   "outputs": [],
   "source": [
    "import pandas as pd"
   ]
  },
  {
   "cell_type": "code",
   "execution_count": 37,
   "metadata": {
    "collapsed": true
   },
   "outputs": [],
   "source": [
    "df = pd.read_csv('train2.csv')"
   ]
  },
  {
   "cell_type": "code",
   "execution_count": 38,
   "metadata": {},
   "outputs": [],
   "source": [
    "dataset = df.values"
   ]
  },
  {
   "cell_type": "code",
   "execution_count": 39,
   "metadata": {},
   "outputs": [],
   "source": [
    "X = dataset[:,0:8]\n",
    "Y = dataset[:,8]"
   ]
  },
  {
   "cell_type": "code",
   "execution_count": 40,
   "metadata": {
    "collapsed": true
   },
   "outputs": [],
   "source": [
    "from sklearn import preprocessing"
   ]
  },
  {
   "cell_type": "code",
   "execution_count": 41,
   "metadata": {
    "collapsed": true
   },
   "outputs": [],
   "source": [
    "min_max_scaler = preprocessing.MinMaxScaler()\n",
    "X_scale = min_max_scaler.fit_transform(X)"
   ]
  },
  {
   "cell_type": "code",
   "execution_count": null,
   "metadata": {},
   "outputs": [],
   "source": []
  },
  {
   "cell_type": "code",
   "execution_count": 43,
   "metadata": {
    "collapsed": true
   },
   "outputs": [],
   "source": [
    "from sklearn.model_selection import train_test_split"
   ]
  },
  {
   "cell_type": "code",
   "execution_count": 44,
   "metadata": {
    "collapsed": true
   },
   "outputs": [],
   "source": [
    "X_train, X_val_and_test, Y_train, Y_val_and_test = train_test_split(X_scale, Y, test_size=0.3)"
   ]
  },
  {
   "cell_type": "code",
   "execution_count": 45,
   "metadata": {
    "collapsed": true
   },
   "outputs": [],
   "source": [
    "X_val, X_test, Y_val, Y_test = train_test_split(X_val_and_test, Y_val_and_test, test_size=0.5)"
   ]
  },
  {
   "cell_type": "code",
   "execution_count": 46,
   "metadata": {},
   "outputs": [],
   "source": [
    "from keras.models import Sequential\n",
    "from keras.layers import Dense\n",
    "from keras.layers import Dropout\n",
    "from keras import regularizers"
   ]
  },
  {
   "cell_type": "code",
   "execution_count": 53,
   "metadata": {},
   "outputs": [],
   "source": [
    "model = Sequential([\n",
    "    Dense(32, activation='relu', input_shape=(8,)),\n",
    "    Dense(32, activation='relu'),\n",
    "    Dense(1, activation='sigmoid'),\n",
    "])"
   ]
  },
  {
   "cell_type": "code",
   "execution_count": 54,
   "metadata": {
    "collapsed": true
   },
   "outputs": [],
   "source": [
    "model.compile(optimizer='sgd',\n",
    "              loss='binary_crossentropy',\n",
    "              metrics=['accuracy'])"
   ]
  },
  {
   "cell_type": "code",
   "execution_count": 55,
   "metadata": {},
   "outputs": [
    {
     "name": "stdout",
     "output_type": "stream",
     "text": [
      "Train on 9324 samples, validate on 1998 samples\n",
      "Epoch 1/100\n",
      "9324/9324 [==============================] - 1s 125us/step - loss: 0.6935 - acc: 0.5324 - val_loss: 0.6919 - val_acc: 0.5556\n",
      "Epoch 2/100\n",
      "9324/9324 [==============================] - 1s 62us/step - loss: 0.6913 - acc: 0.5587 - val_loss: 0.6902 - val_acc: 0.5821\n",
      "Epoch 3/100\n",
      "9324/9324 [==============================] - 1s 61us/step - loss: 0.6895 - acc: 0.5767 - val_loss: 0.6884 - val_acc: 0.5781\n",
      "Epoch 4/100\n",
      "9324/9324 [==============================] - 1s 65us/step - loss: 0.6878 - acc: 0.5872 - val_loss: 0.6866 - val_acc: 0.5866\n",
      "Epoch 5/100\n",
      "9324/9324 [==============================] - 1s 63us/step - loss: 0.6860 - acc: 0.5955 - val_loss: 0.6847 - val_acc: 0.5806\n",
      "Epoch 6/100\n",
      "9324/9324 [==============================] - 1s 62us/step - loss: 0.6842 - acc: 0.6040 - val_loss: 0.6828 - val_acc: 0.6081\n",
      "Epoch 7/100\n",
      "9324/9324 [==============================] - 1s 64us/step - loss: 0.6822 - acc: 0.6109 - val_loss: 0.6806 - val_acc: 0.6111\n",
      "Epoch 8/100\n",
      "9324/9324 [==============================] - 1s 66us/step - loss: 0.6800 - acc: 0.6091 - val_loss: 0.6783 - val_acc: 0.6191\n",
      "Epoch 9/100\n",
      "9324/9324 [==============================] - 1s 64us/step - loss: 0.6775 - acc: 0.6149 - val_loss: 0.6756 - val_acc: 0.6006\n",
      "Epoch 10/100\n",
      "9324/9324 [==============================] - 1s 63us/step - loss: 0.6750 - acc: 0.6061 - val_loss: 0.6729 - val_acc: 0.6156\n",
      "Epoch 11/100\n",
      "9324/9324 [==============================] - 1s 62us/step - loss: 0.6725 - acc: 0.6111 - val_loss: 0.6699 - val_acc: 0.5976\n",
      "Epoch 12/100\n",
      "9324/9324 [==============================] - 1s 64us/step - loss: 0.6698 - acc: 0.6100 - val_loss: 0.6670 - val_acc: 0.6091\n",
      "Epoch 13/100\n",
      "9324/9324 [==============================] - 1s 68us/step - loss: 0.6672 - acc: 0.6089 - val_loss: 0.6641 - val_acc: 0.6146\n",
      "Epoch 14/100\n",
      "9324/9324 [==============================] - 1s 76us/step - loss: 0.6645 - acc: 0.6169 - val_loss: 0.6612 - val_acc: 0.6211\n",
      "Epoch 15/100\n",
      "9324/9324 [==============================] - 1s 63us/step - loss: 0.6619 - acc: 0.6193 - val_loss: 0.6583 - val_acc: 0.6231\n",
      "Epoch 16/100\n",
      "9324/9324 [==============================] - 1s 64us/step - loss: 0.6591 - acc: 0.6240 - val_loss: 0.6560 - val_acc: 0.6421\n",
      "Epoch 17/100\n",
      "9324/9324 [==============================] - 1s 62us/step - loss: 0.6565 - acc: 0.6267 - val_loss: 0.6526 - val_acc: 0.6281\n",
      "Epoch 18/100\n",
      "9324/9324 [==============================] - 1s 64us/step - loss: 0.6536 - acc: 0.6269 - val_loss: 0.6499 - val_acc: 0.6436\n",
      "Epoch 19/100\n",
      "9324/9324 [==============================] - 1s 69us/step - loss: 0.6510 - acc: 0.6333 - val_loss: 0.6467 - val_acc: 0.6441\n",
      "Epoch 20/100\n",
      "9324/9324 [==============================] - 1s 84us/step - loss: 0.6481 - acc: 0.6348 - val_loss: 0.6436 - val_acc: 0.6406\n",
      "Epoch 21/100\n",
      "9324/9324 [==============================] - 1s 72us/step - loss: 0.6450 - acc: 0.6381 - val_loss: 0.6426 - val_acc: 0.6542\n",
      "Epoch 22/100\n",
      "9324/9324 [==============================] - 1s 83us/step - loss: 0.6415 - acc: 0.6407 - val_loss: 0.6381 - val_acc: 0.6607\n",
      "Epoch 23/100\n",
      "9324/9324 [==============================] - 1s 63us/step - loss: 0.6386 - acc: 0.6444 - val_loss: 0.6337 - val_acc: 0.6592\n",
      "Epoch 24/100\n",
      "9324/9324 [==============================] - 1s 62us/step - loss: 0.6350 - acc: 0.6493 - val_loss: 0.6294 - val_acc: 0.6682\n",
      "Epoch 25/100\n",
      "9324/9324 [==============================] - 1s 63us/step - loss: 0.6310 - acc: 0.6558 - val_loss: 0.6260 - val_acc: 0.6672\n",
      "Epoch 26/100\n",
      "9324/9324 [==============================] - 1s 62us/step - loss: 0.6268 - acc: 0.6614 - val_loss: 0.6210 - val_acc: 0.6727\n",
      "Epoch 27/100\n",
      "9324/9324 [==============================] - 1s 61us/step - loss: 0.6221 - acc: 0.6659 - val_loss: 0.6170 - val_acc: 0.6822\n",
      "Epoch 28/100\n",
      "9324/9324 [==============================] - 1s 60us/step - loss: 0.6176 - acc: 0.6725 - val_loss: 0.6117 - val_acc: 0.6767\n",
      "Epoch 29/100\n",
      "9324/9324 [==============================] - 1s 58us/step - loss: 0.6127 - acc: 0.6786 - val_loss: 0.6086 - val_acc: 0.6747\n",
      "Epoch 30/100\n",
      "9324/9324 [==============================] - 1s 60us/step - loss: 0.6075 - acc: 0.6837 - val_loss: 0.6012 - val_acc: 0.7027\n",
      "Epoch 31/100\n",
      "9324/9324 [==============================] - 1s 58us/step - loss: 0.6014 - acc: 0.6961 - val_loss: 0.5950 - val_acc: 0.7137\n",
      "Epoch 32/100\n",
      "9324/9324 [==============================] - 1s 58us/step - loss: 0.5954 - acc: 0.7014 - val_loss: 0.5891 - val_acc: 0.7187\n",
      "Epoch 33/100\n",
      "9324/9324 [==============================] - 1s 59us/step - loss: 0.5890 - acc: 0.7104 - val_loss: 0.5840 - val_acc: 0.6992\n",
      "Epoch 34/100\n",
      "9324/9324 [==============================] - 1s 65us/step - loss: 0.5824 - acc: 0.7162 - val_loss: 0.5782 - val_acc: 0.7342\n",
      "Epoch 35/100\n",
      "9324/9324 [==============================] - 1s 64us/step - loss: 0.5757 - acc: 0.7274 - val_loss: 0.5685 - val_acc: 0.7282\n",
      "Epoch 36/100\n",
      "9324/9324 [==============================] - 1s 64us/step - loss: 0.5688 - acc: 0.7263 - val_loss: 0.5640 - val_acc: 0.7192\n",
      "Epoch 37/100\n",
      "9324/9324 [==============================] - 1s 63us/step - loss: 0.5613 - acc: 0.7357 - val_loss: 0.5558 - val_acc: 0.7317\n",
      "Epoch 38/100\n",
      "9324/9324 [==============================] - 1s 68us/step - loss: 0.5546 - acc: 0.7411 - val_loss: 0.5509 - val_acc: 0.7442\n",
      "Epoch 39/100\n",
      "9324/9324 [==============================] - 1s 71us/step - loss: 0.5474 - acc: 0.7487 - val_loss: 0.5462 - val_acc: 0.7217\n",
      "Epoch 40/100\n",
      "9324/9324 [==============================] - 1s 72us/step - loss: 0.5404 - acc: 0.7546 - val_loss: 0.5363 - val_acc: 0.7382\n",
      "Epoch 41/100\n",
      "9324/9324 [==============================] - 1s 70us/step - loss: 0.5338 - acc: 0.7587 - val_loss: 0.5482 - val_acc: 0.6937\n",
      "Epoch 42/100\n",
      "9324/9324 [==============================] - 1s 67us/step - loss: 0.5265 - acc: 0.7607 - val_loss: 0.5304 - val_acc: 0.7327\n",
      "Epoch 43/100\n",
      "9324/9324 [==============================] - 1s 84us/step - loss: 0.5187 - acc: 0.7653 - val_loss: 0.5194 - val_acc: 0.7508\n",
      "Epoch 44/100\n",
      "9324/9324 [==============================] - 1s 66us/step - loss: 0.5131 - acc: 0.7682 - val_loss: 0.5097 - val_acc: 0.7808\n",
      "Epoch 45/100\n",
      "9324/9324 [==============================] - 1s 73us/step - loss: 0.5081 - acc: 0.7771 - val_loss: 0.5374 - val_acc: 0.7022\n",
      "Epoch 46/100\n",
      "9324/9324 [==============================] - 1s 87us/step - loss: 0.5040 - acc: 0.7776 - val_loss: 0.5003 - val_acc: 0.7783\n",
      "Epoch 47/100\n",
      "9324/9324 [==============================] - 1s 89us/step - loss: 0.4982 - acc: 0.7811 - val_loss: 0.5161 - val_acc: 0.7477\n",
      "Epoch 48/100\n",
      "9324/9324 [==============================] - 1s 76us/step - loss: 0.4926 - acc: 0.7804 - val_loss: 0.5281 - val_acc: 0.7122\n",
      "Epoch 49/100\n",
      "9324/9324 [==============================] - 1s 104us/step - loss: 0.4892 - acc: 0.7831 - val_loss: 0.4883 - val_acc: 0.7823\n",
      "Epoch 50/100\n",
      "9324/9324 [==============================] - 1s 70us/step - loss: 0.4861 - acc: 0.7873 - val_loss: 0.5200 - val_acc: 0.7317\n",
      "Epoch 51/100\n",
      "9324/9324 [==============================] - 1s 84us/step - loss: 0.4817 - acc: 0.7895 - val_loss: 0.4803 - val_acc: 0.7903\n",
      "Epoch 52/100\n",
      "9324/9324 [==============================] - 1s 70us/step - loss: 0.4783 - acc: 0.7898 - val_loss: 0.4801 - val_acc: 0.7898\n",
      "Epoch 53/100\n",
      "9324/9324 [==============================] - 1s 79us/step - loss: 0.4760 - acc: 0.7908 - val_loss: 0.4739 - val_acc: 0.7943\n",
      "Epoch 54/100\n",
      "9324/9324 [==============================] - 1s 75us/step - loss: 0.4726 - acc: 0.7949 - val_loss: 0.5424 - val_acc: 0.6877\n",
      "Epoch 55/100\n",
      "9324/9324 [==============================] - 1s 69us/step - loss: 0.4729 - acc: 0.7929 - val_loss: 0.5607 - val_acc: 0.6977\n",
      "Epoch 56/100\n",
      "9324/9324 [==============================] - 1s 86us/step - loss: 0.4703 - acc: 0.7921 - val_loss: 0.4678 - val_acc: 0.7908\n",
      "Epoch 57/100\n",
      "9324/9324 [==============================] - 1s 70us/step - loss: 0.4662 - acc: 0.7933 - val_loss: 0.5240 - val_acc: 0.7087\n",
      "Epoch 58/100\n",
      "9324/9324 [==============================] - 1s 70us/step - loss: 0.4666 - acc: 0.7963 - val_loss: 0.4650 - val_acc: 0.7918\n",
      "Epoch 59/100\n",
      "9324/9324 [==============================] - 1s 88us/step - loss: 0.4638 - acc: 0.7953 - val_loss: 0.4843 - val_acc: 0.7733\n",
      "Epoch 60/100\n"
     ]
    },
    {
     "name": "stdout",
     "output_type": "stream",
     "text": [
      "9324/9324 [==============================] - 1s 67us/step - loss: 0.4637 - acc: 0.7957 - val_loss: 0.4853 - val_acc: 0.7878\n",
      "Epoch 61/100\n",
      "9324/9324 [==============================] - 1s 76us/step - loss: 0.4608 - acc: 0.7958 - val_loss: 0.4945 - val_acc: 0.7623\n",
      "Epoch 62/100\n",
      "9324/9324 [==============================] - 1s 72us/step - loss: 0.4610 - acc: 0.7956 - val_loss: 0.4788 - val_acc: 0.7833\n",
      "Epoch 63/100\n",
      "9324/9324 [==============================] - 1s 63us/step - loss: 0.4573 - acc: 0.8014 - val_loss: 0.4590 - val_acc: 0.7998\n",
      "Epoch 64/100\n",
      "9324/9324 [==============================] - 1s 57us/step - loss: 0.4576 - acc: 0.7974 - val_loss: 0.4579 - val_acc: 0.7958\n",
      "Epoch 65/100\n",
      "9324/9324 [==============================] - 1s 56us/step - loss: 0.4559 - acc: 0.7952 - val_loss: 0.4709 - val_acc: 0.7863\n",
      "Epoch 66/100\n",
      "9324/9324 [==============================] - 1s 55us/step - loss: 0.4514 - acc: 0.8007 - val_loss: 0.4669 - val_acc: 0.8013\n",
      "Epoch 67/100\n",
      "9324/9324 [==============================] - 1s 55us/step - loss: 0.4550 - acc: 0.7976 - val_loss: 0.4670 - val_acc: 0.7973\n",
      "Epoch 68/100\n",
      "9324/9324 [==============================] - 1s 56us/step - loss: 0.4529 - acc: 0.7948 - val_loss: 0.4514 - val_acc: 0.7988\n",
      "Epoch 69/100\n",
      "9324/9324 [==============================] - 1s 57us/step - loss: 0.4541 - acc: 0.7982 - val_loss: 0.5080 - val_acc: 0.7618\n",
      "Epoch 70/100\n",
      "9324/9324 [==============================] - 1s 63us/step - loss: 0.4485 - acc: 0.8005 - val_loss: 0.5572 - val_acc: 0.7137\n",
      "Epoch 71/100\n",
      "9324/9324 [==============================] - 1s 62us/step - loss: 0.4531 - acc: 0.7992 - val_loss: 0.4946 - val_acc: 0.7598\n",
      "Epoch 72/100\n",
      "9324/9324 [==============================] - 1s 65us/step - loss: 0.4511 - acc: 0.7964 - val_loss: 0.4612 - val_acc: 0.7928\n",
      "Epoch 73/100\n",
      "9324/9324 [==============================] - 1s 84us/step - loss: 0.4499 - acc: 0.7971 - val_loss: 0.4722 - val_acc: 0.8028\n",
      "Epoch 74/100\n",
      "9324/9324 [==============================] - 1s 89us/step - loss: 0.4476 - acc: 0.8016 - val_loss: 0.6366 - val_acc: 0.6892\n",
      "Epoch 75/100\n",
      "9324/9324 [==============================] - 1s 73us/step - loss: 0.4475 - acc: 0.8016 - val_loss: 0.4595 - val_acc: 0.7998\n",
      "Epoch 76/100\n",
      "9324/9324 [==============================] - 1s 83us/step - loss: 0.4453 - acc: 0.8048 - val_loss: 0.4461 - val_acc: 0.7998\n",
      "Epoch 77/100\n",
      "9324/9324 [==============================] - 1s 68us/step - loss: 0.4466 - acc: 0.8014 - val_loss: 0.4497 - val_acc: 0.8038\n",
      "Epoch 78/100\n",
      "9324/9324 [==============================] - 1s 68us/step - loss: 0.4492 - acc: 0.7978 - val_loss: 0.4503 - val_acc: 0.7993\n",
      "Epoch 79/100\n",
      "9324/9324 [==============================] - 1s 71us/step - loss: 0.4448 - acc: 0.8020 - val_loss: 0.4768 - val_acc: 0.7848\n",
      "Epoch 80/100\n",
      "9324/9324 [==============================] - 1s 67us/step - loss: 0.4444 - acc: 0.8030 - val_loss: 0.4475 - val_acc: 0.8008\n",
      "Epoch 81/100\n",
      "9324/9324 [==============================] - 1s 67us/step - loss: 0.4476 - acc: 0.7999 - val_loss: 0.4441 - val_acc: 0.8038\n",
      "Epoch 82/100\n",
      "9324/9324 [==============================] - 1s 69us/step - loss: 0.4413 - acc: 0.8050 - val_loss: 0.5265 - val_acc: 0.7152\n",
      "Epoch 83/100\n",
      "9324/9324 [==============================] - 1s 88us/step - loss: 0.4448 - acc: 0.8058 - val_loss: 0.4744 - val_acc: 0.8013\n",
      "Epoch 84/100\n",
      "9324/9324 [==============================] - 1s 67us/step - loss: 0.4470 - acc: 0.7987 - val_loss: 0.4465 - val_acc: 0.8038\n",
      "Epoch 85/100\n",
      "9324/9324 [==============================] - 1s 91us/step - loss: 0.4452 - acc: 0.8026 - val_loss: 0.5467 - val_acc: 0.6987\n",
      "Epoch 86/100\n",
      "9324/9324 [==============================] - 1s 75us/step - loss: 0.4432 - acc: 0.8026 - val_loss: 0.5225 - val_acc: 0.7227\n",
      "Epoch 87/100\n",
      "9324/9324 [==============================] - 1s 73us/step - loss: 0.4465 - acc: 0.7953 - val_loss: 0.4461 - val_acc: 0.8043\n",
      "Epoch 88/100\n",
      "9324/9324 [==============================] - 1s 75us/step - loss: 0.4439 - acc: 0.8011 - val_loss: 0.5165 - val_acc: 0.7733\n",
      "Epoch 89/100\n",
      "9324/9324 [==============================] - 1s 70us/step - loss: 0.4426 - acc: 0.8026 - val_loss: 0.4415 - val_acc: 0.8023\n",
      "Epoch 90/100\n",
      "9324/9324 [==============================] - 1s 75us/step - loss: 0.4396 - acc: 0.8008 - val_loss: 0.5784 - val_acc: 0.7122\n",
      "Epoch 91/100\n",
      "9324/9324 [==============================] - 1s 81us/step - loss: 0.4413 - acc: 0.8035 - val_loss: 0.4565 - val_acc: 0.8038\n",
      "Epoch 92/100\n",
      "9324/9324 [==============================] - 1s 82us/step - loss: 0.4406 - acc: 0.8037 - val_loss: 0.4416 - val_acc: 0.7993\n",
      "Epoch 93/100\n",
      "9324/9324 [==============================] - 1s 71us/step - loss: 0.4429 - acc: 0.8035 - val_loss: 0.5010 - val_acc: 0.7788\n",
      "Epoch 94/100\n",
      "9324/9324 [==============================] - 1s 66us/step - loss: 0.4390 - acc: 0.8036 - val_loss: 0.4868 - val_acc: 0.8048\n",
      "Epoch 95/100\n",
      "9324/9324 [==============================] - 1s 80us/step - loss: 0.4404 - acc: 0.8031 - val_loss: 0.4377 - val_acc: 0.8023\n",
      "Epoch 96/100\n",
      "9324/9324 [==============================] - 1s 70us/step - loss: 0.4394 - acc: 0.8066 - val_loss: 0.4895 - val_acc: 0.7718\n",
      "Epoch 97/100\n",
      "9324/9324 [==============================] - 1s 68us/step - loss: 0.4380 - acc: 0.8073 - val_loss: 0.4371 - val_acc: 0.8033\n",
      "Epoch 98/100\n",
      "9324/9324 [==============================] - 1s 81us/step - loss: 0.4391 - acc: 0.8043 - val_loss: 0.4417 - val_acc: 0.7988\n",
      "Epoch 99/100\n",
      "9324/9324 [==============================] - 1s 71us/step - loss: 0.4394 - acc: 0.8037 - val_loss: 0.4343 - val_acc: 0.8023\n",
      "Epoch 100/100\n",
      "9324/9324 [==============================] - 1s 69us/step - loss: 0.4374 - acc: 0.8067 - val_loss: 0.5846 - val_acc: 0.6451\n"
     ]
    }
   ],
   "source": [
    "hist = model.fit(X_train, Y_train,\n",
    "          batch_size=32, epochs=100,\n",
    "          validation_data=(X_val, Y_val))"
   ]
  },
  {
   "cell_type": "code",
   "execution_count": 56,
   "metadata": {},
   "outputs": [
    {
     "name": "stdout",
     "output_type": "stream",
     "text": [
      "1998/1998 [==============================] - 0s 55us/step\n"
     ]
    },
    {
     "data": {
      "text/plain": [
       "0.6666666666666666"
      ]
     },
     "execution_count": 56,
     "metadata": {},
     "output_type": "execute_result"
    }
   ],
   "source": [
    "model_1\n",
    "model.evaluate(X_test, Y_test)[1]"
   ]
  },
  {
   "cell_type": "code",
   "execution_count": null,
   "metadata": {
    "collapsed": true
   },
   "outputs": [],
   "source": []
  },
  {
   "cell_type": "code",
   "execution_count": null,
   "metadata": {
    "collapsed": true
   },
   "outputs": [],
   "source": []
  },
  {
   "cell_type": "code",
   "execution_count": null,
   "metadata": {
    "collapsed": true
   },
   "outputs": [],
   "source": []
  },
  {
   "cell_type": "code",
   "execution_count": null,
   "metadata": {
    "collapsed": true
   },
   "outputs": [],
   "source": [
    "#model_2"
   ]
  },
  {
   "cell_type": "code",
   "execution_count": 58,
   "metadata": {},
   "outputs": [
    {
     "name": "stdout",
     "output_type": "stream",
     "text": [
      "Train on 9324 samples, validate on 1998 samples\n",
      "Epoch 1/100\n",
      "9324/9324 [==============================] - 28s 3ms/step - loss: 0.5411 - acc: 0.7183 - val_loss: 0.5749 - val_acc: 0.6967\n",
      "Epoch 2/100\n",
      "9324/9324 [==============================] - 27s 3ms/step - loss: 0.4504 - acc: 0.7978 - val_loss: 0.4436 - val_acc: 0.7983\n",
      "Epoch 3/100\n",
      "9324/9324 [==============================] - 27s 3ms/step - loss: 0.4358 - acc: 0.8051 - val_loss: 0.4429 - val_acc: 0.8028\n",
      "Epoch 4/100\n",
      "9324/9324 [==============================] - 27s 3ms/step - loss: 0.4233 - acc: 0.8102 - val_loss: 0.4419 - val_acc: 0.8003\n",
      "Epoch 5/100\n",
      "9324/9324 [==============================] - 27s 3ms/step - loss: 0.4195 - acc: 0.8100 - val_loss: 0.4440 - val_acc: 0.8008\n",
      "Epoch 6/100\n",
      "9324/9324 [==============================] - 27s 3ms/step - loss: 0.4181 - acc: 0.8110 - val_loss: 0.4246 - val_acc: 0.8198\n",
      "Epoch 7/100\n",
      "9324/9324 [==============================] - 27s 3ms/step - loss: 0.4137 - acc: 0.8125 - val_loss: 0.4033 - val_acc: 0.8143\n",
      "Epoch 8/100\n",
      "9324/9324 [==============================] - 27s 3ms/step - loss: 0.4098 - acc: 0.8136 - val_loss: 0.3989 - val_acc: 0.8188\n",
      "Epoch 9/100\n",
      "9324/9324 [==============================] - 27s 3ms/step - loss: 0.4053 - acc: 0.8149 - val_loss: 0.4019 - val_acc: 0.8183\n",
      "Epoch 10/100\n",
      "9324/9324 [==============================] - 27s 3ms/step - loss: 0.3981 - acc: 0.8242 - val_loss: 0.3937 - val_acc: 0.8108\n",
      "Epoch 11/100\n",
      "9324/9324 [==============================] - 27s 3ms/step - loss: 0.3964 - acc: 0.8206 - val_loss: 0.3901 - val_acc: 0.8133\n",
      "Epoch 12/100\n",
      "9324/9324 [==============================] - 27s 3ms/step - loss: 0.3968 - acc: 0.8197 - val_loss: 0.4115 - val_acc: 0.8183\n",
      "Epoch 13/100\n",
      "9324/9324 [==============================] - 27s 3ms/step - loss: 0.3895 - acc: 0.8187 - val_loss: 0.4048 - val_acc: 0.8178\n",
      "Epoch 14/100\n",
      "9324/9324 [==============================] - 27s 3ms/step - loss: 0.3930 - acc: 0.8220 - val_loss: 0.3898 - val_acc: 0.8223\n",
      "Epoch 15/100\n",
      "9324/9324 [==============================] - 27s 3ms/step - loss: 0.3911 - acc: 0.8228 - val_loss: 0.3958 - val_acc: 0.8133\n",
      "Epoch 16/100\n",
      "9324/9324 [==============================] - 27s 3ms/step - loss: 0.3864 - acc: 0.8219 - val_loss: 0.4012 - val_acc: 0.8108\n",
      "Epoch 17/100\n",
      "9324/9324 [==============================] - 28s 3ms/step - loss: 0.3883 - acc: 0.8228 - val_loss: 0.4032 - val_acc: 0.8083\n",
      "Epoch 18/100\n",
      "9324/9324 [==============================] - 29s 3ms/step - loss: 0.3880 - acc: 0.8224 - val_loss: 0.3834 - val_acc: 0.8133\n",
      "Epoch 19/100\n",
      "9324/9324 [==============================] - 27s 3ms/step - loss: 0.3819 - acc: 0.8218 - val_loss: 0.3824 - val_acc: 0.8258\n",
      "Epoch 20/100\n",
      "9324/9324 [==============================] - 30s 3ms/step - loss: 0.3880 - acc: 0.8231 - val_loss: 0.4198 - val_acc: 0.8173\n",
      "Epoch 21/100\n",
      "9324/9324 [==============================] - 26s 3ms/step - loss: 0.3790 - acc: 0.8278 - val_loss: 0.3833 - val_acc: 0.8263\n",
      "Epoch 22/100\n",
      "9324/9324 [==============================] - 29s 3ms/step - loss: 0.3776 - acc: 0.8274 - val_loss: 0.4027 - val_acc: 0.8143\n",
      "Epoch 23/100\n",
      "9324/9324 [==============================] - 28s 3ms/step - loss: 0.3788 - acc: 0.8265 - val_loss: 0.4069 - val_acc: 0.8288\n",
      "Epoch 24/100\n",
      "9324/9324 [==============================] - 34s 4ms/step - loss: 0.3733 - acc: 0.8297 - val_loss: 0.3909 - val_acc: 0.8218\n",
      "Epoch 25/100\n",
      "9324/9324 [==============================] - 28s 3ms/step - loss: 0.3723 - acc: 0.8313 - val_loss: 0.4009 - val_acc: 0.8208\n",
      "Epoch 26/100\n",
      "9324/9324 [==============================] - 26s 3ms/step - loss: 0.3702 - acc: 0.8293 - val_loss: 0.3826 - val_acc: 0.8228\n",
      "Epoch 27/100\n",
      "9324/9324 [==============================] - 31s 3ms/step - loss: 0.3766 - acc: 0.8269 - val_loss: 0.3789 - val_acc: 0.8278\n",
      "Epoch 28/100\n",
      "9324/9324 [==============================] - 32s 3ms/step - loss: 0.3668 - acc: 0.8335 - val_loss: 0.3885 - val_acc: 0.8308\n",
      "Epoch 29/100\n",
      "9324/9324 [==============================] - 29s 3ms/step - loss: 0.3751 - acc: 0.8288 - val_loss: 0.3738 - val_acc: 0.8293\n",
      "Epoch 30/100\n",
      "9324/9324 [==============================] - 30s 3ms/step - loss: 0.3676 - acc: 0.8340 - val_loss: 0.3984 - val_acc: 0.8253\n",
      "Epoch 31/100\n",
      "9324/9324 [==============================] - 32s 3ms/step - loss: 0.3687 - acc: 0.8368 - val_loss: 0.3786 - val_acc: 0.8338\n",
      "Epoch 32/100\n",
      "9324/9324 [==============================] - 31s 3ms/step - loss: 0.3652 - acc: 0.8361 - val_loss: 0.3790 - val_acc: 0.8238\n",
      "Epoch 33/100\n",
      "9324/9324 [==============================] - 25s 3ms/step - loss: 0.3667 - acc: 0.8338 - val_loss: 0.3757 - val_acc: 0.8303\n",
      "Epoch 34/100\n",
      "9324/9324 [==============================] - 32s 3ms/step - loss: 0.3658 - acc: 0.8334 - val_loss: 0.3804 - val_acc: 0.8213\n",
      "Epoch 35/100\n",
      "9324/9324 [==============================] - 29s 3ms/step - loss: 0.3631 - acc: 0.8334 - val_loss: 0.3837 - val_acc: 0.8293\n",
      "Epoch 36/100\n",
      "9324/9324 [==============================] - 26s 3ms/step - loss: 0.3557 - acc: 0.8363 - val_loss: 0.3781 - val_acc: 0.8293\n",
      "Epoch 37/100\n",
      "9324/9324 [==============================] - 26s 3ms/step - loss: 0.3595 - acc: 0.8357 - val_loss: 0.3675 - val_acc: 0.8318\n",
      "Epoch 38/100\n",
      "9324/9324 [==============================] - 23s 2ms/step - loss: 0.3550 - acc: 0.8360 - val_loss: 0.4057 - val_acc: 0.8128\n",
      "Epoch 39/100\n",
      "9324/9324 [==============================] - 23s 2ms/step - loss: 0.3613 - acc: 0.8383 - val_loss: 0.3928 - val_acc: 0.8203\n",
      "Epoch 40/100\n",
      "9324/9324 [==============================] - 23s 2ms/step - loss: 0.3522 - acc: 0.8401 - val_loss: 0.3999 - val_acc: 0.8258\n",
      "Epoch 41/100\n",
      "9324/9324 [==============================] - 23s 2ms/step - loss: 0.3513 - acc: 0.8396 - val_loss: 0.3864 - val_acc: 0.8223\n",
      "Epoch 42/100\n",
      "9324/9324 [==============================] - 23s 3ms/step - loss: 0.3510 - acc: 0.8412 - val_loss: 0.3731 - val_acc: 0.8348\n",
      "Epoch 43/100\n",
      "9324/9324 [==============================] - 23s 2ms/step - loss: 0.3527 - acc: 0.8432 - val_loss: 0.3692 - val_acc: 0.8298\n",
      "Epoch 44/100\n",
      "9324/9324 [==============================] - 23s 2ms/step - loss: 0.3541 - acc: 0.8393 - val_loss: 0.3741 - val_acc: 0.8268\n",
      "Epoch 45/100\n",
      "9324/9324 [==============================] - 23s 2ms/step - loss: 0.3494 - acc: 0.8391 - val_loss: 0.3715 - val_acc: 0.8243\n",
      "Epoch 46/100\n",
      "9324/9324 [==============================] - 23s 2ms/step - loss: 0.3452 - acc: 0.8462 - val_loss: 0.3857 - val_acc: 0.8203\n",
      "Epoch 47/100\n",
      "9324/9324 [==============================] - 23s 3ms/step - loss: 0.3475 - acc: 0.8433 - val_loss: 0.3692 - val_acc: 0.8338\n",
      "Epoch 48/100\n",
      "9324/9324 [==============================] - 23s 2ms/step - loss: 0.3414 - acc: 0.8445 - val_loss: 0.3754 - val_acc: 0.8323\n",
      "Epoch 49/100\n",
      "9324/9324 [==============================] - 23s 2ms/step - loss: 0.3427 - acc: 0.8432 - val_loss: 0.3788 - val_acc: 0.8328\n",
      "Epoch 50/100\n",
      "9324/9324 [==============================] - 25s 3ms/step - loss: 0.3373 - acc: 0.8451 - val_loss: 0.3840 - val_acc: 0.8323\n",
      "Epoch 51/100\n",
      "9324/9324 [==============================] - 23s 2ms/step - loss: 0.3393 - acc: 0.8465 - val_loss: 0.4654 - val_acc: 0.8128\n",
      "Epoch 52/100\n",
      "9324/9324 [==============================] - 23s 2ms/step - loss: 0.3428 - acc: 0.8455 - val_loss: 0.3773 - val_acc: 0.8388\n",
      "Epoch 53/100\n",
      "9324/9324 [==============================] - 25s 3ms/step - loss: 0.3377 - acc: 0.8456 - val_loss: 0.3985 - val_acc: 0.8278\n",
      "Epoch 54/100\n",
      "9324/9324 [==============================] - 28s 3ms/step - loss: 0.3405 - acc: 0.8416 - val_loss: 0.3887 - val_acc: 0.8233\n",
      "Epoch 55/100\n",
      "9324/9324 [==============================] - 28s 3ms/step - loss: 0.3398 - acc: 0.8447 - val_loss: 0.4680 - val_acc: 0.7998\n",
      "Epoch 56/100\n",
      "9324/9324 [==============================] - 28s 3ms/step - loss: 0.3405 - acc: 0.8437 - val_loss: 0.4217 - val_acc: 0.8128\n",
      "Epoch 57/100\n",
      "9324/9324 [==============================] - 28s 3ms/step - loss: 0.3377 - acc: 0.8456 - val_loss: 0.3680 - val_acc: 0.8313\n",
      "Epoch 58/100\n",
      "9324/9324 [==============================] - 28s 3ms/step - loss: 0.3341 - acc: 0.8456 - val_loss: 0.3805 - val_acc: 0.8233\n",
      "Epoch 59/100\n",
      "9324/9324 [==============================] - 28s 3ms/step - loss: 0.3272 - acc: 0.8473 - val_loss: 0.4074 - val_acc: 0.8268\n",
      "Epoch 60/100\n"
     ]
    },
    {
     "name": "stdout",
     "output_type": "stream",
     "text": [
      "9324/9324 [==============================] - 26s 3ms/step - loss: 0.3405 - acc: 0.8480 - val_loss: 0.4071 - val_acc: 0.8148\n",
      "Epoch 61/100\n",
      "9324/9324 [==============================] - 26s 3ms/step - loss: 0.3322 - acc: 0.8530 - val_loss: 0.4028 - val_acc: 0.8283\n",
      "Epoch 62/100\n",
      "9324/9324 [==============================] - 26s 3ms/step - loss: 0.3346 - acc: 0.8520 - val_loss: 0.3748 - val_acc: 0.8373\n",
      "Epoch 63/100\n",
      "9324/9324 [==============================] - 26s 3ms/step - loss: 0.3297 - acc: 0.8488 - val_loss: 0.4406 - val_acc: 0.8088\n",
      "Epoch 64/100\n",
      "9324/9324 [==============================] - 27s 3ms/step - loss: 0.3288 - acc: 0.8514 - val_loss: 0.3821 - val_acc: 0.8273\n",
      "Epoch 65/100\n",
      "9324/9324 [==============================] - 28s 3ms/step - loss: 0.3224 - acc: 0.8526 - val_loss: 0.3878 - val_acc: 0.8343\n",
      "Epoch 66/100\n",
      "9324/9324 [==============================] - 28s 3ms/step - loss: 0.3273 - acc: 0.8500 - val_loss: 0.3808 - val_acc: 0.8348\n",
      "Epoch 67/100\n",
      "9324/9324 [==============================] - 28s 3ms/step - loss: 0.3187 - acc: 0.8542 - val_loss: 0.4642 - val_acc: 0.8063\n",
      "Epoch 68/100\n",
      "9324/9324 [==============================] - 28s 3ms/step - loss: 0.3251 - acc: 0.8511 - val_loss: 0.4134 - val_acc: 0.8293\n",
      "Epoch 69/100\n",
      "9324/9324 [==============================] - 28s 3ms/step - loss: 0.3344 - acc: 0.8522 - val_loss: 0.4087 - val_acc: 0.8228\n",
      "Epoch 70/100\n",
      "9324/9324 [==============================] - 28s 3ms/step - loss: 0.3231 - acc: 0.8508 - val_loss: 0.3902 - val_acc: 0.8308\n",
      "Epoch 71/100\n",
      "9324/9324 [==============================] - 28s 3ms/step - loss: 0.3226 - acc: 0.8536 - val_loss: 0.4240 - val_acc: 0.8313\n",
      "Epoch 72/100\n",
      "9324/9324 [==============================] - 28s 3ms/step - loss: 0.3205 - acc: 0.8562 - val_loss: 0.4042 - val_acc: 0.8293\n",
      "Epoch 73/100\n",
      "9324/9324 [==============================] - 27s 3ms/step - loss: 0.3118 - acc: 0.8591 - val_loss: 0.4132 - val_acc: 0.8258\n",
      "Epoch 74/100\n",
      "9324/9324 [==============================] - 28s 3ms/step - loss: 0.3136 - acc: 0.8579 - val_loss: 0.4015 - val_acc: 0.8218\n",
      "Epoch 75/100\n",
      "9324/9324 [==============================] - 28s 3ms/step - loss: 0.3129 - acc: 0.8611 - val_loss: 0.4073 - val_acc: 0.8203\n",
      "Epoch 76/100\n",
      "9324/9324 [==============================] - 28s 3ms/step - loss: 0.3169 - acc: 0.8570 - val_loss: 0.4046 - val_acc: 0.8258\n",
      "Epoch 77/100\n",
      "9324/9324 [==============================] - 28s 3ms/step - loss: 0.3118 - acc: 0.8619 - val_loss: 0.4052 - val_acc: 0.8298\n",
      "Epoch 78/100\n",
      "9324/9324 [==============================] - 28s 3ms/step - loss: 0.3036 - acc: 0.8623 - val_loss: 0.4318 - val_acc: 0.8203\n",
      "Epoch 79/100\n",
      "9324/9324 [==============================] - 28s 3ms/step - loss: 0.3071 - acc: 0.8586 - val_loss: 0.4445 - val_acc: 0.8403\n",
      "Epoch 80/100\n",
      "9324/9324 [==============================] - 28s 3ms/step - loss: 0.3098 - acc: 0.8591 - val_loss: 0.4381 - val_acc: 0.8198\n",
      "Epoch 81/100\n",
      "9324/9324 [==============================] - 28s 3ms/step - loss: 0.3128 - acc: 0.8588 - val_loss: 0.4326 - val_acc: 0.8143\n",
      "Epoch 82/100\n",
      "9324/9324 [==============================] - 28s 3ms/step - loss: 0.3078 - acc: 0.8598 - val_loss: 0.4170 - val_acc: 0.8328\n",
      "Epoch 83/100\n",
      "9324/9324 [==============================] - 28s 3ms/step - loss: 0.3054 - acc: 0.8642 - val_loss: 0.4684 - val_acc: 0.8183\n",
      "Epoch 84/100\n",
      "9324/9324 [==============================] - 28s 3ms/step - loss: 0.3040 - acc: 0.8604 - val_loss: 0.4454 - val_acc: 0.8223\n",
      "Epoch 85/100\n",
      "9324/9324 [==============================] - 28s 3ms/step - loss: 0.3003 - acc: 0.8658 - val_loss: 0.4252 - val_acc: 0.8278\n",
      "Epoch 86/100\n",
      "9324/9324 [==============================] - 28s 3ms/step - loss: 0.3081 - acc: 0.8588 - val_loss: 0.4172 - val_acc: 0.8338\n",
      "Epoch 87/100\n",
      "9324/9324 [==============================] - 28s 3ms/step - loss: 0.2984 - acc: 0.8641 - val_loss: 0.4105 - val_acc: 0.8348\n",
      "Epoch 88/100\n",
      "9324/9324 [==============================] - 28s 3ms/step - loss: 0.3006 - acc: 0.8638 - val_loss: 0.4139 - val_acc: 0.8283\n",
      "Epoch 89/100\n",
      "9324/9324 [==============================] - 28s 3ms/step - loss: 0.2996 - acc: 0.8651 - val_loss: 0.4813 - val_acc: 0.8158\n",
      "Epoch 90/100\n",
      "9324/9324 [==============================] - 28s 3ms/step - loss: 0.2915 - acc: 0.8683 - val_loss: 0.4709 - val_acc: 0.8353\n",
      "Epoch 91/100\n",
      "9324/9324 [==============================] - 28s 3ms/step - loss: 0.3003 - acc: 0.8637 - val_loss: 0.4416 - val_acc: 0.8333\n",
      "Epoch 92/100\n",
      "9324/9324 [==============================] - 28s 3ms/step - loss: 0.2930 - acc: 0.8660 - val_loss: 0.4758 - val_acc: 0.8143\n",
      "Epoch 93/100\n",
      "9324/9324 [==============================] - 28s 3ms/step - loss: 0.2938 - acc: 0.8637 - val_loss: 0.4454 - val_acc: 0.8383\n",
      "Epoch 94/100\n",
      "9324/9324 [==============================] - 28s 3ms/step - loss: 0.2936 - acc: 0.8655 - val_loss: 0.4761 - val_acc: 0.8253\n",
      "Epoch 95/100\n",
      "9324/9324 [==============================] - 28s 3ms/step - loss: 0.2917 - acc: 0.8664 - val_loss: 0.4641 - val_acc: 0.8193\n",
      "Epoch 96/100\n",
      "9324/9324 [==============================] - 28s 3ms/step - loss: 0.2872 - acc: 0.8671 - val_loss: 0.4368 - val_acc: 0.8348\n",
      "Epoch 97/100\n",
      "9324/9324 [==============================] - 28s 3ms/step - loss: 0.2937 - acc: 0.8688 - val_loss: 0.4255 - val_acc: 0.8363\n",
      "Epoch 98/100\n",
      "9324/9324 [==============================] - 28s 3ms/step - loss: 0.2829 - acc: 0.8705 - val_loss: 0.4449 - val_acc: 0.8338\n",
      "Epoch 99/100\n",
      "9324/9324 [==============================] - 28s 3ms/step - loss: 0.2866 - acc: 0.8707 - val_loss: 0.4540 - val_acc: 0.8388\n",
      "Epoch 100/100\n",
      "9324/9324 [==============================] - 28s 3ms/step - loss: 0.2805 - acc: 0.8734 - val_loss: 0.4606 - val_acc: 0.8378\n"
     ]
    }
   ],
   "source": [
    "\n",
    "model_2 = Sequential([\n",
    "    Dense(1000, activation='relu', input_shape=(8,)),\n",
    "    Dense(1000, activation='relu'),\n",
    "    Dense(1000, activation='relu'),\n",
    "    Dense(1000, activation='relu'),\n",
    "    Dense(1, activation='sigmoid'),\n",
    "])\n",
    "model_2.compile(optimizer='adam',\n",
    "              loss='binary_crossentropy',\n",
    "              metrics=['accuracy'])\n",
    "hist_2 = model_2.fit(X_train, Y_train,\n",
    "          batch_size=32, epochs=100,\n",
    "          validation_data=(X_val, Y_val))"
   ]
  },
  {
   "cell_type": "code",
   "execution_count": 59,
   "metadata": {},
   "outputs": [
    {
     "name": "stdout",
     "output_type": "stream",
     "text": [
      "1998/1998 [==============================] - 1s 389us/step\n"
     ]
    },
    {
     "data": {
      "text/plain": [
       "0.8408408407215122"
      ]
     },
     "execution_count": 59,
     "metadata": {},
     "output_type": "execute_result"
    }
   ],
   "source": [
    "#model_2\n",
    "model_2.evaluate(X_test, Y_test)[1]"
   ]
  },
  {
   "cell_type": "code",
   "execution_count": null,
   "metadata": {
    "collapsed": true
   },
   "outputs": [],
   "source": []
  }
 ],
 "metadata": {
  "kernelspec": {
   "display_name": "Python 3",
   "language": "python",
   "name": "python3"
  },
  "language_info": {
   "codemirror_mode": {
    "name": "ipython",
    "version": 3
   },
   "file_extension": ".py",
   "mimetype": "text/x-python",
   "name": "python",
   "nbconvert_exporter": "python",
   "pygments_lexer": "ipython3",
   "version": "3.6.3"
  }
 },
 "nbformat": 4,
 "nbformat_minor": 2
}
