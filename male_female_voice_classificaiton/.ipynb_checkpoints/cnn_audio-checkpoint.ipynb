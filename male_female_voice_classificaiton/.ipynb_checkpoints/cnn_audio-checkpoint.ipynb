{
 "cells": [
  {
   "cell_type": "code",
   "execution_count": 3,
   "metadata": {
    "collapsed": true
   },
   "outputs": [],
   "source": [
    "%matplotlib inline  \n",
    "import gc\n",
    "import pickle\n",
    "import random\n",
    "from multiprocessing import Pool\n",
    "\n",
    "import numpy as np\n",
    "import pandas as pd\n",
    "from keras import optimizers, losses, activations, models\n",
    "from keras.callbacks import ModelCheckpoint, EarlyStopping, LearningRateScheduler\n",
    "from keras.layers import Dense, Input, Dropout, Convolution1D, MaxPool1D, GlobalMaxPool1D, GlobalAveragePooling1D, \\\n",
    "    concatenate\n",
    "from numpy import random\n",
    "import librosa\n",
    "import numpy as np\n",
    "import glob\n",
    "import os\n",
    "import pandas as pd\n",
    "from PIL import Image\n",
    "import numpy as np\n",
    "import matplotlib.pyplot as plt\n",
    "from random import shuffle\n",
    "from sklearn.model_selection import train_test_split\n",
    "from tqdm import tqdm"
   ]
  },
  {
   "cell_type": "code",
   "execution_count": 4,
   "metadata": {
    "collapsed": true
   },
   "outputs": [],
   "source": [
    "input_length = 16000*2\n",
    "\n",
    "batch_size = 10\n",
    "\n",
    "def audio_norm(data):\n",
    "\n",
    "    max_data = np.max(data)\n",
    "    min_data = np.min(data)\n",
    "    data = (data-min_data)/(max_data-min_data+0.0001)\n",
    "    return data-0.5\n",
    "\n",
    "\n",
    "def load_audio_file(file_path, input_length=input_length):\n",
    "    data = librosa.core.load(file_path, sr=16000)[0] #, sr=16000\n",
    "    if len(data)>input_length:\n",
    "        \n",
    "        \n",
    "        max_offset = len(data)-input_length\n",
    "        \n",
    "        offset = np.random.randint(max_offset)\n",
    "        \n",
    "        data = data[offset:(input_length+offset)]\n",
    "        \n",
    "        \n",
    "    else:\n",
    "        \n",
    "        max_offset = input_length - len(data)\n",
    "        \n",
    "        offset = np.random.randint(max_offset)\n",
    "        \n",
    "        \n",
    "        data = np.pad(data, (offset, input_length - len(data) - offset), \"constant\")\n",
    "        \n",
    "        \n",
    "    data = audio_norm(data)\n",
    "    return data"
   ]
  },
  {
   "cell_type": "code",
   "execution_count": null,
   "metadata": {
    "collapsed": true
   },
   "outputs": [],
   "source": []
  },
  {
   "cell_type": "code",
   "execution_count": 5,
   "metadata": {
    "collapsed": true
   },
   "outputs": [],
   "source": [
    "train_files = glob.glob(\"train/*.wav\")\n",
    "test_files = glob.glob(\"test/*.wav\")\n",
    "train_labels = pd.read_csv(\"train.csv\")"
   ]
  },
  {
   "cell_type": "code",
   "execution_count": 6,
   "metadata": {
    "collapsed": true
   },
   "outputs": [],
   "source": [
    "file_to_label = {\"train/\"+k:v for k,v in zip(train_labels.fname.values, train_labels.label.values)}"
   ]
  },
  {
   "cell_type": "code",
   "execution_count": 7,
   "metadata": {},
   "outputs": [
    {
     "data": {
      "text/plain": [
       "{'train/female_1.wav': 'female',\n",
       " 'train/female_10.wav': 'female',\n",
       " 'train/female_100.wav': 'female',\n",
       " 'train/female_101.wav': 'female',\n",
       " 'train/female_102.wav': 'female',\n",
       " 'train/female_103.wav': 'female',\n",
       " 'train/female_104.wav': 'female',\n",
       " 'train/female_105.wav': 'female',\n",
       " 'train/female_106.wav': 'female',\n",
       " 'train/female_107.wav': 'female',\n",
       " 'train/female_108.wav': 'female',\n",
       " 'train/female_109.wav': 'female',\n",
       " 'train/female_11.wav': 'female',\n",
       " 'train/female_110.wav': 'female',\n",
       " 'train/female_111.wav': 'female',\n",
       " 'train/female_112.wav': 'female',\n",
       " 'train/female_113.wav': 'female',\n",
       " 'train/female_114.wav': 'female',\n",
       " 'train/female_115.wav': 'female',\n",
       " 'train/female_116.wav': 'female',\n",
       " 'train/female_117.wav': 'female',\n",
       " 'train/female_118.wav': 'female',\n",
       " 'train/female_119.wav': 'female',\n",
       " 'train/female_12.wav': 'female',\n",
       " 'train/female_120.wav': 'female',\n",
       " 'train/female_121.wav': 'female',\n",
       " 'train/female_122.wav': 'female',\n",
       " 'train/female_123.wav': 'female',\n",
       " 'train/female_124.wav': 'female',\n",
       " 'train/female_125.wav': 'female',\n",
       " 'train/female_126.wav': 'female',\n",
       " 'train/female_127.wav': 'female',\n",
       " 'train/female_128.wav': 'female',\n",
       " 'train/female_129.wav': 'female',\n",
       " 'train/female_13.wav': 'female',\n",
       " 'train/female_130.wav': 'female',\n",
       " 'train/female_131.wav': 'female',\n",
       " 'train/female_132.wav': 'female',\n",
       " 'train/female_14.wav': 'female',\n",
       " 'train/female_15.wav': 'female',\n",
       " 'train/female_16.wav': 'female',\n",
       " 'train/female_17.wav': 'female',\n",
       " 'train/female_18.wav': 'female',\n",
       " 'train/female_19.wav': 'female',\n",
       " 'train/female_2.wav': 'female',\n",
       " 'train/female_20.wav': 'female',\n",
       " 'train/female_21.wav': 'female',\n",
       " 'train/female_22.wav': 'female',\n",
       " 'train/female_23.wav': 'female',\n",
       " 'train/female_24.wav': 'female',\n",
       " 'train/female_25.wav': 'female',\n",
       " 'train/female_26.wav': 'female',\n",
       " 'train/female_27.wav': 'female',\n",
       " 'train/female_28.wav': 'female',\n",
       " 'train/female_29.wav': 'female',\n",
       " 'train/female_3.wav': 'female',\n",
       " 'train/female_30.wav': 'female',\n",
       " 'train/female_31.wav': 'female',\n",
       " 'train/female_32.wav': 'female',\n",
       " 'train/female_33.wav': 'female',\n",
       " 'train/female_34.wav': 'female',\n",
       " 'train/female_35.wav': 'female',\n",
       " 'train/female_36.wav': 'female',\n",
       " 'train/female_37.wav': 'female',\n",
       " 'train/female_38.wav': 'female',\n",
       " 'train/female_39.wav': 'female',\n",
       " 'train/female_4.wav': 'female',\n",
       " 'train/female_40.wav': 'female',\n",
       " 'train/female_41.wav': 'female',\n",
       " 'train/female_42.wav': 'female',\n",
       " 'train/female_43.wav': 'female',\n",
       " 'train/female_44.wav': 'female',\n",
       " 'train/female_45.wav': 'female',\n",
       " 'train/female_46.wav': 'female',\n",
       " 'train/female_47.wav': 'female',\n",
       " 'train/female_48.wav': 'female',\n",
       " 'train/female_49.wav': 'female',\n",
       " 'train/female_5.wav': 'female',\n",
       " 'train/female_50.wav': 'female',\n",
       " 'train/female_51.wav': 'female',\n",
       " 'train/female_52.wav': 'female',\n",
       " 'train/female_53.wav': 'female',\n",
       " 'train/female_54.wav': 'female',\n",
       " 'train/female_55.wav': 'female',\n",
       " 'train/female_56.wav': 'female',\n",
       " 'train/female_57.wav': 'female',\n",
       " 'train/female_58.wav': 'female',\n",
       " 'train/female_59.wav': 'female',\n",
       " 'train/female_6.wav': 'female',\n",
       " 'train/female_60.wav': 'female',\n",
       " 'train/female_61.wav': 'female',\n",
       " 'train/female_62.wav': 'female',\n",
       " 'train/female_63.wav': 'female',\n",
       " 'train/female_64.wav': 'female',\n",
       " 'train/female_65.wav': 'female',\n",
       " 'train/female_66.wav': 'female',\n",
       " 'train/female_67.wav': 'female',\n",
       " 'train/female_68.wav': 'female',\n",
       " 'train/female_69.wav': 'female',\n",
       " 'train/female_7.wav': 'female',\n",
       " 'train/female_70.wav': 'female',\n",
       " 'train/female_71.wav': 'female',\n",
       " 'train/female_72.wav': 'female',\n",
       " 'train/female_73.wav': 'female',\n",
       " 'train/female_74.wav': 'female',\n",
       " 'train/female_75.wav': 'female',\n",
       " 'train/female_76.wav': 'female',\n",
       " 'train/female_77.wav': 'female',\n",
       " 'train/female_78.wav': 'female',\n",
       " 'train/female_79.wav': 'female',\n",
       " 'train/female_8.wav': 'female',\n",
       " 'train/female_80.wav': 'female',\n",
       " 'train/female_81.wav': 'female',\n",
       " 'train/female_82.wav': 'female',\n",
       " 'train/female_83.wav': 'female',\n",
       " 'train/female_84.wav': 'female',\n",
       " 'train/female_85.wav': 'female',\n",
       " 'train/female_86.wav': 'female',\n",
       " 'train/female_87.wav': 'female',\n",
       " 'train/female_88.wav': 'female',\n",
       " 'train/female_89.wav': 'female',\n",
       " 'train/female_9.wav': 'female',\n",
       " 'train/female_90.wav': 'female',\n",
       " 'train/female_91.wav': 'female',\n",
       " 'train/female_92.wav': 'female',\n",
       " 'train/female_93.wav': 'female',\n",
       " 'train/female_94.wav': 'female',\n",
       " 'train/female_95.wav': 'female',\n",
       " 'train/female_96.wav': 'female',\n",
       " 'train/female_97.wav': 'female',\n",
       " 'train/female_98.wav': 'female',\n",
       " 'train/female_99.wav': 'female',\n",
       " 'train/male_1.wav': 'male',\n",
       " 'train/male_10.wav': 'male',\n",
       " 'train/male_100.wav': 'male',\n",
       " 'train/male_101.wav': 'male',\n",
       " 'train/male_102.wav': 'male',\n",
       " 'train/male_103.wav': 'male',\n",
       " 'train/male_104.wav': 'male',\n",
       " 'train/male_105.wav': 'male',\n",
       " 'train/male_106.wav': 'male',\n",
       " 'train/male_107.wav': 'male',\n",
       " 'train/male_108.wav': 'male',\n",
       " 'train/male_109.wav': 'male',\n",
       " 'train/male_11.wav': 'male',\n",
       " 'train/male_110.wav': 'male',\n",
       " 'train/male_111.wav': 'male',\n",
       " 'train/male_112.wav': 'male',\n",
       " 'train/male_113.wav': 'male',\n",
       " 'train/male_114.wav': 'male',\n",
       " 'train/male_115.wav': 'male',\n",
       " 'train/male_116.wav': 'male',\n",
       " 'train/male_117.wav': 'male',\n",
       " 'train/male_118.wav': 'male',\n",
       " 'train/male_119.wav': 'male',\n",
       " 'train/male_12.wav': 'male',\n",
       " 'train/male_120.wav': 'male',\n",
       " 'train/male_121.wav': 'male',\n",
       " 'train/male_122.wav': 'male',\n",
       " 'train/male_123.wav': 'male',\n",
       " 'train/male_124.wav': 'male',\n",
       " 'train/male_125.wav': 'male',\n",
       " 'train/male_126.wav': 'male',\n",
       " 'train/male_127.wav': 'male',\n",
       " 'train/male_128.wav': 'male',\n",
       " 'train/male_129.wav': 'male',\n",
       " 'train/male_13.wav': 'male',\n",
       " 'train/male_130.wav': 'male',\n",
       " 'train/male_131.wav': 'male',\n",
       " 'train/male_132.wav': 'male',\n",
       " 'train/male_133.wav': 'male',\n",
       " 'train/male_134.wav': 'male',\n",
       " 'train/male_135.wav': 'male',\n",
       " 'train/male_136.wav': 'male',\n",
       " 'train/male_137.wav': 'male',\n",
       " 'train/male_138.wav': 'male',\n",
       " 'train/male_139.wav': 'male',\n",
       " 'train/male_14.wav': 'male',\n",
       " 'train/male_140.wav': 'male',\n",
       " 'train/male_141.wav': 'male',\n",
       " 'train/male_142.wav': 'male',\n",
       " 'train/male_143.wav': 'male',\n",
       " 'train/male_144.wav': 'male',\n",
       " 'train/male_145.wav': 'male',\n",
       " 'train/male_146.wav': 'male',\n",
       " 'train/male_147.wav': 'male',\n",
       " 'train/male_148.wav': 'male',\n",
       " 'train/male_149.wav': 'male',\n",
       " 'train/male_15.wav': 'male',\n",
       " 'train/male_150.wav': 'male',\n",
       " 'train/male_151.wav': 'male',\n",
       " 'train/male_152.wav': 'male',\n",
       " 'train/male_153.wav': 'male',\n",
       " 'train/male_154.wav': 'male',\n",
       " 'train/male_155.wav': 'male',\n",
       " 'train/male_156.wav': 'male',\n",
       " 'train/male_157.wav': 'male',\n",
       " 'train/male_158.wav': 'male',\n",
       " 'train/male_159.wav': 'male',\n",
       " 'train/male_16.wav': 'male',\n",
       " 'train/male_160.wav': 'male',\n",
       " 'train/male_161.wav': 'male',\n",
       " 'train/male_162.wav': 'male',\n",
       " 'train/male_163.wav': 'male',\n",
       " 'train/male_164.wav': 'male',\n",
       " 'train/male_165.wav': 'male',\n",
       " 'train/male_166.wav': 'male',\n",
       " 'train/male_167.wav': 'male',\n",
       " 'train/male_168.wav': 'male',\n",
       " 'train/male_169.wav': 'male',\n",
       " 'train/male_17.wav': 'male',\n",
       " 'train/male_170.wav': 'male',\n",
       " 'train/male_171.wav': 'male',\n",
       " 'train/male_172.wav': 'male',\n",
       " 'train/male_173.wav': 'male',\n",
       " 'train/male_174.wav': 'male',\n",
       " 'train/male_175.wav': 'male',\n",
       " 'train/male_176.wav': 'male',\n",
       " 'train/male_177.wav': 'male',\n",
       " 'train/male_178.wav': 'male',\n",
       " 'train/male_179.wav': 'male',\n",
       " 'train/male_18.wav': 'male',\n",
       " 'train/male_180.wav': 'male',\n",
       " 'train/male_181.wav': 'male',\n",
       " 'train/male_182.wav': 'male',\n",
       " 'train/male_183.wav': 'male',\n",
       " 'train/male_184.wav': 'male',\n",
       " 'train/male_185.wav': 'male',\n",
       " 'train/male_186.wav': 'male',\n",
       " 'train/male_187.wav': 'male',\n",
       " 'train/male_188.wav': 'male',\n",
       " 'train/male_189.wav': 'male',\n",
       " 'train/male_19.wav': 'male',\n",
       " 'train/male_190.wav': 'male',\n",
       " 'train/male_191.wav': 'male',\n",
       " 'train/male_192.wav': 'male',\n",
       " 'train/male_193.wav': 'male',\n",
       " 'train/male_194.wav': 'male',\n",
       " 'train/male_195.wav': 'male',\n",
       " 'train/male_196.wav': 'male',\n",
       " 'train/male_197.wav': 'male',\n",
       " 'train/male_198.wav': 'male',\n",
       " 'train/male_199.wav': 'male',\n",
       " 'train/male_2.wav': 'male',\n",
       " 'train/male_20.wav': 'male',\n",
       " 'train/male_200.wav': 'male',\n",
       " 'train/male_201.wav': 'male',\n",
       " 'train/male_202.wav': 'male',\n",
       " 'train/male_203.wav': 'male',\n",
       " 'train/male_204.wav': 'male',\n",
       " 'train/male_205.wav': 'male',\n",
       " 'train/male_206.wav': 'male',\n",
       " 'train/male_207.wav': 'male',\n",
       " 'train/male_208.wav': 'male',\n",
       " 'train/male_209.wav': 'male',\n",
       " 'train/male_21.wav': 'male',\n",
       " 'train/male_210.wav': 'male',\n",
       " 'train/male_211.wav': 'male',\n",
       " 'train/male_212.wav': 'male',\n",
       " 'train/male_213.wav': 'male',\n",
       " 'train/male_214.wav': 'male',\n",
       " 'train/male_215.wav': 'male',\n",
       " 'train/male_216.wav': 'male',\n",
       " 'train/male_217.wav': 'male',\n",
       " 'train/male_218.wav': 'male',\n",
       " 'train/male_219.wav': 'male',\n",
       " 'train/male_22.wav': 'male',\n",
       " 'train/male_220.wav': 'male',\n",
       " 'train/male_221.wav': 'male',\n",
       " 'train/male_222.wav': 'male',\n",
       " 'train/male_223.wav': 'male',\n",
       " 'train/male_224.wav': 'male',\n",
       " 'train/male_225.wav': 'male',\n",
       " 'train/male_226.wav': 'male',\n",
       " 'train/male_227.wav': 'male',\n",
       " 'train/male_228.wav': 'male',\n",
       " 'train/male_229.wav': 'male',\n",
       " 'train/male_23.wav': 'male',\n",
       " 'train/male_230.wav': 'male',\n",
       " 'train/male_231.wav': 'male',\n",
       " 'train/male_24.wav': 'male',\n",
       " 'train/male_25.wav': 'male',\n",
       " 'train/male_26.wav': 'male',\n",
       " 'train/male_27.wav': 'male',\n",
       " 'train/male_28.wav': 'male',\n",
       " 'train/male_29.wav': 'male',\n",
       " 'train/male_3.wav': 'male',\n",
       " 'train/male_30.wav': 'male',\n",
       " 'train/male_31.wav': 'male',\n",
       " 'train/male_32.wav': 'male',\n",
       " 'train/male_33.wav': 'male',\n",
       " 'train/male_34.wav': 'male',\n",
       " 'train/male_35.wav': 'male',\n",
       " 'train/male_36.wav': 'male',\n",
       " 'train/male_37.wav': 'male',\n",
       " 'train/male_38.wav': 'male',\n",
       " 'train/male_39.wav': 'male',\n",
       " 'train/male_4.wav': 'male',\n",
       " 'train/male_40.wav': 'male',\n",
       " 'train/male_41.wav': 'male',\n",
       " 'train/male_42.wav': 'male',\n",
       " 'train/male_43.wav': 'male',\n",
       " 'train/male_44.wav': 'male',\n",
       " 'train/male_45.wav': 'male',\n",
       " 'train/male_46.wav': 'male',\n",
       " 'train/male_47.wav': 'male',\n",
       " 'train/male_48.wav': 'male',\n",
       " 'train/male_49.wav': 'male',\n",
       " 'train/male_5.wav': 'male',\n",
       " 'train/male_50.wav': 'male',\n",
       " 'train/male_51.wav': 'male',\n",
       " 'train/male_52.wav': 'male',\n",
       " 'train/male_53.wav': 'male',\n",
       " 'train/male_54.wav': 'male',\n",
       " 'train/male_55.wav': 'male',\n",
       " 'train/male_56.wav': 'male',\n",
       " 'train/male_57.wav': 'male',\n",
       " 'train/male_58.wav': 'male',\n",
       " 'train/male_59.wav': 'male',\n",
       " 'train/male_6.wav': 'male',\n",
       " 'train/male_60.wav': 'male',\n",
       " 'train/male_61.wav': 'male',\n",
       " 'train/male_62.wav': 'male',\n",
       " 'train/male_63.wav': 'male',\n",
       " 'train/male_64.wav': 'male',\n",
       " 'train/male_65.wav': 'male',\n",
       " 'train/male_66.wav': 'male',\n",
       " 'train/male_67.wav': 'male',\n",
       " 'train/male_68.wav': 'male',\n",
       " 'train/male_69.wav': 'male',\n",
       " 'train/male_7.wav': 'male',\n",
       " 'train/male_70.wav': 'male',\n",
       " 'train/male_71.wav': 'male',\n",
       " 'train/male_72.wav': 'male',\n",
       " 'train/male_73.wav': 'male',\n",
       " 'train/male_74.wav': 'male',\n",
       " 'train/male_75.wav': 'male',\n",
       " 'train/male_76.wav': 'male',\n",
       " 'train/male_77.wav': 'male',\n",
       " 'train/male_78.wav': 'male',\n",
       " 'train/male_79.wav': 'male',\n",
       " 'train/male_8.wav': 'male',\n",
       " 'train/male_80.wav': 'male',\n",
       " 'train/male_81.wav': 'male',\n",
       " 'train/male_82.wav': 'male',\n",
       " 'train/male_83.wav': 'male',\n",
       " 'train/male_84.wav': 'male',\n",
       " 'train/male_85.wav': 'male',\n",
       " 'train/male_86.wav': 'male',\n",
       " 'train/male_87.wav': 'male',\n",
       " 'train/male_88.wav': 'male',\n",
       " 'train/male_89.wav': 'male',\n",
       " 'train/male_9.wav': 'male',\n",
       " 'train/male_90.wav': 'male',\n",
       " 'train/male_91.wav': 'male',\n",
       " 'train/male_92.wav': 'male',\n",
       " 'train/male_93.wav': 'male',\n",
       " 'train/male_94.wav': 'male',\n",
       " 'train/male_95.wav': 'male',\n",
       " 'train/male_96.wav': 'male',\n",
       " 'train/male_97.wav': 'male',\n",
       " 'train/male_98.wav': 'male',\n",
       " 'train/male_99.wav': 'male'}"
      ]
     },
     "execution_count": 7,
     "metadata": {},
     "output_type": "execute_result"
    }
   ],
   "source": [
    "file_to_label"
   ]
  },
  {
   "cell_type": "code",
   "execution_count": 8,
   "metadata": {},
   "outputs": [
    {
     "data": {
      "text/plain": [
       "'train/male_20.wav'"
      ]
     },
     "execution_count": 8,
     "metadata": {},
     "output_type": "execute_result"
    }
   ],
   "source": [
    "train_files[0]"
   ]
  },
  {
   "cell_type": "code",
   "execution_count": 9,
   "metadata": {},
   "outputs": [
    {
     "data": {
      "image/png": "[encoded data removed]",
      "text/plain": [
       "<matplotlib.figure.Figure at 0x7fa85bc993c8>"
      ]
     },
     "metadata": {},
     "output_type": "display_data"
    }
   ],
   "source": [
    "data_base = load_audio_file(train_files[4])\n",
    "fig = plt.figure(figsize=(14, 8))\n",
    "plt.title('Raw wave : %s ' % (file_to_label[train_files[4]]))\n",
    "plt.ylabel('Amplitude')\n",
    "plt.plot(np.linspace(0, 1, input_length), data_base)\n",
    "plt.show()"
   ]
  },
  {
   "cell_type": "code",
   "execution_count": 10,
   "metadata": {},
   "outputs": [
    {
     "data": {
      "text/plain": [
       "['female', 'male']"
      ]
     },
     "execution_count": 10,
     "metadata": {},
     "output_type": "execute_result"
    }
   ],
   "source": [
    "list_labels = sorted(list(set(train_labels.label.values)))\n",
    "list_labels"
   ]
  },
  {
   "cell_type": "code",
   "execution_count": 11,
   "metadata": {
    "collapsed": true
   },
   "outputs": [],
   "source": [
    "label_to_int = {k:v for v,k in enumerate(list_labels)}"
   ]
  },
  {
   "cell_type": "code",
   "execution_count": 12,
   "metadata": {
    "collapsed": true
   },
   "outputs": [],
   "source": [
    "int_to_label = {v:k for k,v in label_to_int.items()}"
   ]
  },
  {
   "cell_type": "code",
   "execution_count": 13,
   "metadata": {
    "collapsed": true
   },
   "outputs": [],
   "source": [
    "file_to_int = {k:label_to_int[v] for k,v in file_to_label.items()}"
   ]
  },
  {
   "cell_type": "code",
   "execution_count": 14,
   "metadata": {
    "collapsed": true
   },
   "outputs": [],
   "source": [
    "def get_model():\n",
    "    nclass = len(list_labels)\n",
    "    inp = Input(shape=(input_length, 1))\n",
    "    img_1 = Convolution1D(16, kernel_size=9, activation=activations.relu, padding=\"valid\")(inp)\n",
    "    img_1 = Convolution1D(16, kernel_size=9, activation=activations.relu, padding=\"valid\")(img_1)\n",
    "    img_1 = MaxPool1D(pool_size=16)(img_1)\n",
    "    img_1 = Dropout(rate=0.1)(img_1)\n",
    "    img_1 = Convolution1D(32, kernel_size=3, activation=activations.relu, padding=\"valid\")(img_1)\n",
    "    img_1 = Convolution1D(32, kernel_size=3, activation=activations.relu, padding=\"valid\")(img_1)\n",
    "    img_1 = MaxPool1D(pool_size=4)(img_1)\n",
    "    img_1 = Dropout(rate=0.1)(img_1)\n",
    "    img_1 = Convolution1D(32, kernel_size=3, activation=activations.relu, padding=\"valid\")(img_1)\n",
    "    img_1 = Convolution1D(32, kernel_size=3, activation=activations.relu, padding=\"valid\")(img_1)\n",
    "    img_1 = MaxPool1D(pool_size=4)(img_1)\n",
    "    img_1 = Dropout(rate=0.1)(img_1)\n",
    "    img_1 = Convolution1D(256, kernel_size=3, activation=activations.relu, padding=\"valid\")(img_1)\n",
    "    img_1 = Convolution1D(256, kernel_size=3, activation=activations.relu, padding=\"valid\")(img_1)\n",
    "    img_1 = GlobalMaxPool1D()(img_1)\n",
    "    img_1 = Dropout(rate=0.2)(img_1)\n",
    "\n",
    "    dense_1 = Dense(64, activation=activations.relu)(img_1)\n",
    "    dense_1 = Dense(1028, activation=activations.relu)(dense_1)\n",
    "    dense_1 = Dense(nclass, activation=activations.softmax)(dense_1)\n",
    "\n",
    "    model = models.Model(inputs=inp, outputs=dense_1)\n",
    "    opt = optimizers.Adam(0.0001)\n",
    "\n",
    "    model.compile(optimizer=opt, loss=losses.sparse_categorical_crossentropy, metrics=['acc'])\n",
    "    model.summary()\n",
    "    return model"
   ]
  },
  {
   "cell_type": "code",
   "execution_count": 15,
   "metadata": {
    "collapsed": true
   },
   "outputs": [],
   "source": [
    "def chunker(seq, size):\n",
    "    return (seq[pos:pos + size] for pos in range(0, len(seq), size))"
   ]
  },
  {
   "cell_type": "code",
   "execution_count": 16,
   "metadata": {
    "collapsed": true
   },
   "outputs": [],
   "source": [
    "def train_generator(list_files, batch_size=batch_size):\n",
    "    while True:\n",
    "        shuffle(list_files)\n",
    "        for batch_files in chunker(list_files, size=batch_size):\n",
    "            batch_data = [load_audio_file(fpath) for fpath in batch_files]\n",
    "            batch_data = np.array(batch_data)[:,:,np.newaxis]\n",
    "            batch_labels = [file_to_int[fpath] for fpath in batch_files]\n",
    "            batch_labels = np.array(batch_labels)\n",
    "            \n",
    "            yield batch_data, batch_labels\n",
    "            "
   ]
  },
  {
   "cell_type": "code",
   "execution_count": 17,
   "metadata": {},
   "outputs": [
    {
     "data": {
      "text/plain": [
       "3"
      ]
     },
     "execution_count": 17,
     "metadata": {},
     "output_type": "execute_result"
    }
   ],
   "source": [
    "tr_files, val_files = train_test_split(train_files, test_size=0.1)\n",
    "len(val_files)//batch_size"
   ]
  },
  {
   "cell_type": "code",
   "execution_count": 18,
   "metadata": {},
   "outputs": [
    {
     "name": "stdout",
     "output_type": "stream",
     "text": [
      "WARNING:tensorflow:From /home/rakesh/.local/lib/python3.6/site-packages/tensorflow/python/framework/op_def_library.py:263: colocate_with (from tensorflow.python.framework.ops) is deprecated and will be removed in a future version.\n",
      "Instructions for updating:\n",
      "Colocations handled automatically by placer.\n",
      "WARNING:tensorflow:From /home/rakesh/anaconda3/lib/python3.6/site-packages/keras/backend/tensorflow_backend.py:3445: calling dropout (from tensorflow.python.ops.nn_ops) with keep_prob is deprecated and will be removed in a future version.\n",
      "Instructions for updating:\n",
      "Please use `rate` instead of `keep_prob`. Rate should be set to `rate = 1 - keep_prob`.\n",
      "_________________________________________________________________\n",
      "Layer (type)                 Output Shape              Param #   \n",
      "=================================================================\n",
      "input_1 (InputLayer)         (None, 32000, 1)          0         \n",
      "_________________________________________________________________\n",
      "conv1d_1 (Conv1D)            (None, 31992, 16)         160       \n",
      "_________________________________________________________________\n",
      "conv1d_2 (Conv1D)            (None, 31984, 16)         2320      \n",
      "_________________________________________________________________\n",
      "max_pooling1d_1 (MaxPooling1 (None, 1999, 16)          0         \n",
      "_________________________________________________________________\n",
      "dropout_1 (Dropout)          (None, 1999, 16)          0         \n",
      "_________________________________________________________________\n",
      "conv1d_3 (Conv1D)            (None, 1997, 32)          1568      \n",
      "_________________________________________________________________\n",
      "conv1d_4 (Conv1D)            (None, 1995, 32)          3104      \n",
      "_________________________________________________________________\n",
      "max_pooling1d_2 (MaxPooling1 (None, 498, 32)           0         \n",
      "_________________________________________________________________\n",
      "dropout_2 (Dropout)          (None, 498, 32)           0         \n",
      "_________________________________________________________________\n",
      "conv1d_5 (Conv1D)            (None, 496, 32)           3104      \n",
      "_________________________________________________________________\n",
      "conv1d_6 (Conv1D)            (None, 494, 32)           3104      \n",
      "_________________________________________________________________\n",
      "max_pooling1d_3 (MaxPooling1 (None, 123, 32)           0         \n",
      "_________________________________________________________________\n",
      "dropout_3 (Dropout)          (None, 123, 32)           0         \n",
      "_________________________________________________________________\n",
      "conv1d_7 (Conv1D)            (None, 121, 256)          24832     \n",
      "_________________________________________________________________\n",
      "conv1d_8 (Conv1D)            (None, 119, 256)          196864    \n",
      "_________________________________________________________________\n",
      "global_max_pooling1d_1 (Glob (None, 256)               0         \n",
      "_________________________________________________________________\n",
      "dropout_4 (Dropout)          (None, 256)               0         \n",
      "_________________________________________________________________\n",
      "dense_1 (Dense)              (None, 64)                16448     \n",
      "_________________________________________________________________\n",
      "dense_2 (Dense)              (None, 1028)              66820     \n",
      "_________________________________________________________________\n",
      "dense_3 (Dense)              (None, 2)                 2058      \n",
      "=================================================================\n",
      "Total params: 320,382\n",
      "Trainable params: 320,382\n",
      "Non-trainable params: 0\n",
      "_________________________________________________________________\n"
     ]
    }
   ],
   "source": [
    "model = get_model()"
   ]
  },
  {
   "cell_type": "code",
   "execution_count": null,
   "metadata": {},
   "outputs": [
    {
     "name": "stdout",
     "output_type": "stream",
     "text": [
      "WARNING:tensorflow:From /home/rakesh/.local/lib/python3.6/site-packages/tensorflow/python/ops/math_ops.py:3066: to_int32 (from tensorflow.python.ops.math_ops) is deprecated and will be removed in a future version.\n",
      "Instructions for updating:\n",
      "Use tf.cast instead.\n",
      "WARNING:tensorflow:From /home/rakesh/.local/lib/python3.6/site-packages/tensorflow/python/ops/math_grad.py:102: div (from tensorflow.python.ops.math_ops) is deprecated and will be removed in a future version.\n",
      "Instructions for updating:\n",
      "Deprecated in favor of operator or tf.math.divide.\n",
      "Epoch 1/100\n"
     ]
    },
    {
     "name": "stderr",
     "output_type": "stream",
     "text": [
      "/home/rakesh/anaconda3/lib/python3.6/site-packages/keras/engine/training_generator.py:47: UserWarning: Using a generator with `use_multiprocessing=True` and multiple workers may duplicate your data. Please consider using the`keras.utils.Sequence class.\n",
      "  UserWarning('Using a generator with `use_multiprocessing=True`'\n"
     ]
    },
    {
     "name": "stdout",
     "output_type": "stream",
     "text": [
      "32/32 [==============================] - 20s 633ms/step - loss: 0.6891 - acc: 0.6219 - val_loss: 0.6941 - val_acc: 0.5000\n",
      "Epoch 2/100\n",
      "32/32 [==============================] - 15s 476ms/step - loss: 0.6560 - acc: 0.6719 - val_loss: 0.7311 - val_acc: 0.4667\n",
      "Epoch 3/100\n",
      "32/32 [==============================] - 15s 476ms/step - loss: 0.6098 - acc: 0.6969 - val_loss: 0.8142 - val_acc: 0.4000\n",
      "Epoch 4/100\n",
      "32/32 [==============================] - 15s 479ms/step - loss: 0.6307 - acc: 0.6656 - val_loss: 0.7134 - val_acc: 0.5333\n",
      "Epoch 5/100\n",
      "32/32 [==============================] - 16s 499ms/step - loss: 0.6009 - acc: 0.6875 - val_loss: 0.8412 - val_acc: 0.3667\n",
      "Epoch 6/100\n",
      "32/32 [==============================] - 15s 473ms/step - loss: 0.6496 - acc: 0.6156 - val_loss: 0.7237 - val_acc: 0.4333\n",
      "Epoch 7/100\n",
      "32/32 [==============================] - 15s 473ms/step - loss: 0.6225 - acc: 0.6469 - val_loss: 0.7815 - val_acc: 0.3333\n",
      "Epoch 8/100\n",
      "32/32 [==============================] - 15s 462ms/step - loss: 0.6012 - acc: 0.6551 - val_loss: 0.6993 - val_acc: 0.5000\n",
      "Epoch 9/100\n",
      "32/32 [==============================] - 15s 474ms/step - loss: 0.5886 - acc: 0.6342 - val_loss: 0.7259 - val_acc: 0.2963\n",
      "Epoch 10/100\n",
      "32/32 [==============================] - 16s 511ms/step - loss: 0.5487 - acc: 0.6594 - val_loss: 0.6505 - val_acc: 0.6667\n",
      "Epoch 11/100\n",
      "32/32 [==============================] - 15s 473ms/step - loss: 0.4664 - acc: 0.7531 - val_loss: 0.5798 - val_acc: 0.7407\n",
      "Epoch 12/100\n",
      "32/32 [==============================] - 15s 470ms/step - loss: 0.4509 - acc: 0.8156 - val_loss: 0.4613 - val_acc: 0.8519\n",
      "Epoch 13/100\n",
      "32/32 [==============================] - 15s 471ms/step - loss: 0.4016 - acc: 0.8031 - val_loss: 0.4432 - val_acc: 0.8333\n",
      "Epoch 14/100\n",
      "32/32 [==============================] - 15s 470ms/step - loss: 0.3478 - acc: 0.8313 - val_loss: 0.3892 - val_acc: 0.8333\n",
      "Epoch 15/100\n",
      "32/32 [==============================] - 15s 468ms/step - loss: 0.3056 - acc: 0.8750 - val_loss: 0.2239 - val_acc: 0.9259\n",
      "Epoch 16/100\n",
      "32/32 [==============================] - 15s 457ms/step - loss: 0.3160 - acc: 0.8698 - val_loss: 0.2170 - val_acc: 0.9630\n",
      "Epoch 17/100\n",
      "32/32 [==============================] - 14s 440ms/step - loss: 0.1983 - acc: 0.9396 - val_loss: 0.2766 - val_acc: 0.8333\n",
      "Epoch 18/100\n",
      "32/32 [==============================] - 15s 474ms/step - loss: 0.2805 - acc: 0.8750 - val_loss: 0.1456 - val_acc: 1.0000\n",
      "Epoch 19/100\n",
      "30/32 [===========================>..] - ETA: 0s - loss: 0.2569 - acc: 0.9067"
     ]
    }
   ],
   "source": [
    "model.fit_generator(train_generator(tr_files), steps_per_epoch=len(tr_files)//batch_size, epochs=100,\n",
    "                    validation_data=train_generator(val_files), validation_steps=len(val_files)//batch_size,\n",
    "                   use_multiprocessing=True, workers=8, max_queue_size=20)"
   ]
  },
  {
   "cell_type": "code",
   "execution_count": null,
   "metadata": {
    "collapsed": true
   },
   "outputs": [],
   "source": [
    "model.save_weights(\"baseline_cnn.h5\")"
   ]
  },
  {
   "cell_type": "code",
   "execution_count": null,
   "metadata": {
    "collapsed": true
   },
   "outputs": [],
   "source": [
    "list_preds = []\n"
   ]
  },
  {
   "cell_type": "code",
   "execution_count": null,
   "metadata": {
    "collapsed": true
   },
   "outputs": [],
   "source": [
    "for batch_files in tqdm(chunker(test_files, size=batch_size), total=len(test_files)//batch_size ):\n",
    "    batch_data = [load_audio_file(fpath) for fpath in batch_files]\n",
    "    batch_data = np.array(batch_data)[:,:,np.newaxis]\n",
    "    preds = model.predict(batch_data).tolist()\n",
    "    list_preds += preds\n",
    "            \n"
   ]
  },
  {
   "cell_type": "code",
   "execution_count": null,
   "metadata": {
    "collapsed": true
   },
   "outputs": [],
   "source": [
    "array_preds = np.array(list_preds)\n",
    "array_preds"
   ]
  },
  {
   "cell_type": "code",
   "execution_count": null,
   "metadata": {
    "collapsed": true
   },
   "outputs": [],
   "source": [
    "list_labels = np.array(list_labels)\n",
    "list_labels"
   ]
  },
  {
   "cell_type": "code",
   "execution_count": null,
   "metadata": {
    "collapsed": true
   },
   "outputs": [],
   "source": [
    "#top_3 = list_labels[np.argsort(-array_preds, axis=1)[:, :3]] #https://www.kaggle.com/inversion/freesound-starter-kernel\n",
    "top = list_labels[np.argsort(-array_preds, axis=1)[:, :1]]\n",
    "pred_labels = [' '.join(list(x)) for x in top]\n",
    "pred_labels"
   ]
  },
  {
   "cell_type": "code",
   "execution_count": null,
   "metadata": {
    "collapsed": true
   },
   "outputs": [],
   "source": [
    "df = pd.DataFrame(test_files, columns=[\"fname\"])\n",
    "df['label'] = pred_labels"
   ]
  },
  {
   "cell_type": "code",
   "execution_count": null,
   "metadata": {
    "collapsed": true
   },
   "outputs": [],
   "source": [
    "df['fname'] = df.fname.apply(lambda x: x.split(\"/\")[-1])"
   ]
  },
  {
   "cell_type": "code",
   "execution_count": null,
   "metadata": {
    "collapsed": true
   },
   "outputs": [],
   "source": [
    "df.to_csv(\"baseline.csv\", index=False)"
   ]
  },
  {
   "cell_type": "code",
   "execution_count": null,
   "metadata": {
    "collapsed": true
   },
   "outputs": [],
   "source": [
    "\n",
    "\n",
    "\n",
    "\n"
   ]
  },
  {
   "cell_type": "code",
   "execution_count": null,
   "metadata": {
    "collapsed": true
   },
   "outputs": [],
   "source": []
  },
  {
   "cell_type": "code",
   "execution_count": null,
   "metadata": {
    "collapsed": true
   },
   "outputs": [],
   "source": [
    "\n"
   ]
  },
  {
   "cell_type": "code",
   "execution_count": null,
   "metadata": {
    "collapsed": true
   },
   "outputs": [],
   "source": []
  },
  {
   "cell_type": "code",
   "execution_count": null,
   "metadata": {
    "collapsed": true
   },
   "outputs": [],
   "source": []
  },
  {
   "cell_type": "code",
   "execution_count": null,
   "metadata": {
    "collapsed": true
   },
   "outputs": [],
   "source": []
  },
  {
   "cell_type": "code",
   "execution_count": null,
   "metadata": {
    "collapsed": true
   },
   "outputs": [],
   "source": []
  },
  {
   "cell_type": "code",
   "execution_count": null,
   "metadata": {
    "collapsed": true
   },
   "outputs": [],
   "source": []
  },
  {
   "cell_type": "code",
   "execution_count": null,
   "metadata": {
    "collapsed": true
   },
   "outputs": [],
   "source": []
  },
  {
   "cell_type": "code",
   "execution_count": 18,
   "metadata": {},
   "outputs": [
    {
     "name": "stderr",
     "output_type": "stream",
     "text": [
      "  0%|          | 0/3 [00:00<?, ?it/s]\n",
      "  0%|          | 0/18 [00:00<?, ?it/s]\u001b[A\n",
      "  6%|▌         | 1/18 [00:00<00:13,  1.30it/s]\u001b[A\n",
      " 11%|█         | 2/18 [00:01<00:09,  1.64it/s]\u001b[A\n",
      " 17%|█▋        | 3/18 [00:01<00:07,  2.00it/s]\u001b[A\n",
      " 22%|██▏       | 4/18 [00:01<00:05,  2.34it/s]\u001b[A\n",
      " 28%|██▊       | 5/18 [00:01<00:04,  2.73it/s]\u001b[A\n",
      " 33%|███▎      | 6/18 [00:01<00:03,  3.09it/s]\u001b[A\n",
      " 39%|███▉      | 7/18 [00:02<00:03,  3.45it/s]\u001b[A\n",
      " 44%|████▍     | 8/18 [00:02<00:02,  3.75it/s]\u001b[A\n",
      " 50%|█████     | 9/18 [00:02<00:02,  4.00it/s]\u001b[A\n",
      " 56%|█████▌    | 10/18 [00:02<00:01,  4.13it/s]\u001b[A\n",
      " 61%|██████    | 11/18 [00:03<00:01,  4.29it/s]\u001b[A\n",
      " 67%|██████▋   | 12/18 [00:03<00:01,  4.44it/s]\u001b[A\n",
      " 72%|███████▏  | 13/18 [00:03<00:01,  4.45it/s]\u001b[A\n",
      " 78%|███████▊  | 14/18 [00:03<00:00,  4.11it/s]\u001b[A\n",
      " 83%|████████▎ | 15/18 [00:04<00:00,  3.81it/s]\u001b[A\n",
      " 89%|████████▉ | 16/18 [00:04<00:00,  3.87it/s]\u001b[A\n",
      " 94%|█████████▍| 17/18 [00:04<00:00,  4.02it/s]\u001b[A\n",
      "100%|██████████| 18/18 [00:04<00:00,  4.02it/s]\u001b[A\n",
      " 33%|███▎      | 1/3 [00:04<00:09,  5.00s/it]  \u001b[A\n",
      "  0%|          | 0/18 [00:00<?, ?it/s]\u001b[A\n",
      "  6%|▌         | 1/18 [00:00<00:03,  5.37it/s]\u001b[A\n",
      " 11%|█         | 2/18 [00:00<00:02,  5.49it/s]\u001b[A\n",
      " 17%|█▋        | 3/18 [00:00<00:02,  5.53it/s]\u001b[A\n",
      " 22%|██▏       | 4/18 [00:00<00:02,  5.52it/s]\u001b[A\n",
      " 28%|██▊       | 5/18 [00:00<00:02,  5.64it/s]\u001b[A\n",
      " 33%|███▎      | 6/18 [00:01<00:02,  5.65it/s]\u001b[A\n",
      " 39%|███▉      | 7/18 [00:01<00:01,  5.62it/s]\u001b[A\n",
      " 44%|████▍     | 8/18 [00:01<00:01,  5.71it/s]\u001b[A\n",
      " 50%|█████     | 9/18 [00:01<00:01,  5.66it/s]\u001b[A\n",
      " 56%|█████▌    | 10/18 [00:01<00:01,  4.92it/s]\u001b[A\n",
      " 61%|██████    | 11/18 [00:02<00:01,  4.86it/s]\u001b[A\n",
      " 67%|██████▋   | 12/18 [00:02<00:01,  4.92it/s]\u001b[A\n",
      " 72%|███████▏  | 13/18 [00:02<00:00,  5.14it/s]\u001b[A\n",
      " 78%|███████▊  | 14/18 [00:02<00:00,  5.29it/s]\u001b[A\n",
      " 83%|████████▎ | 15/18 [00:02<00:00,  5.34it/s]\u001b[A\n",
      " 89%|████████▉ | 16/18 [00:02<00:00,  5.35it/s]\u001b[A\n",
      " 94%|█████████▍| 17/18 [00:03<00:00,  5.41it/s]\u001b[A\n",
      "100%|██████████| 18/18 [00:03<00:00,  5.36it/s]\u001b[A\n",
      " 67%|██████▋   | 2/3 [00:08<00:04,  4.56s/it]  \u001b[A\n",
      "  0%|          | 0/18 [00:00<?, ?it/s]\u001b[A\n",
      "  6%|▌         | 1/18 [00:00<00:03,  5.28it/s]\u001b[A\n",
      " 11%|█         | 2/18 [00:00<00:02,  5.35it/s]\u001b[A\n",
      " 17%|█▋        | 3/18 [00:00<00:02,  5.49it/s]\u001b[A\n",
      " 22%|██▏       | 4/18 [00:00<00:02,  5.52it/s]\u001b[A\n",
      " 28%|██▊       | 5/18 [00:00<00:02,  5.51it/s]\u001b[A\n",
      " 33%|███▎      | 6/18 [00:01<00:02,  5.43it/s]\u001b[A\n",
      " 39%|███▉      | 7/18 [00:01<00:02,  5.49it/s]\u001b[A\n",
      " 44%|████▍     | 8/18 [00:01<00:01,  5.46it/s]\u001b[A\n",
      " 50%|█████     | 9/18 [00:01<00:01,  5.45it/s]\u001b[A\n",
      " 56%|█████▌    | 10/18 [00:01<00:01,  5.56it/s]\u001b[A\n",
      " 61%|██████    | 11/18 [00:01<00:01,  5.49it/s]\u001b[A\n",
      " 67%|██████▋   | 12/18 [00:02<00:01,  5.48it/s]\u001b[A\n",
      " 72%|███████▏  | 13/18 [00:02<00:00,  5.53it/s]\u001b[A\n",
      " 78%|███████▊  | 14/18 [00:02<00:00,  5.48it/s]\u001b[A\n",
      " 83%|████████▎ | 15/18 [00:02<00:00,  4.95it/s]\u001b[A\n",
      " 89%|████████▉ | 16/18 [00:03<00:00,  4.86it/s]\u001b[A\n",
      " 94%|█████████▍| 17/18 [00:03<00:00,  4.91it/s]\u001b[A\n",
      "100%|██████████| 18/18 [00:03<00:00,  4.99it/s]\u001b[A\n",
      "100%|██████████| 3/3 [00:12<00:00,  4.26s/it]  \u001b[A\n"
     ]
    }
   ],
   "source": [
    "test_files = glob.glob(\"test/*.wav\")\n",
    "model.load_weights(\"baseline_cnn.h5\")\n",
    "\n",
    "# In[19]:\n",
    "\n",
    "\n",
    "\n",
    "\n",
    "\n",
    "# In[20]:\n",
    "bag = 3\n",
    "\n",
    "array_preds = 0\n",
    "\n",
    "for i in tqdm(range(bag)):\n",
    "\n",
    "    list_preds = []\n",
    "\n",
    "    for batch_files in tqdm(chunker(test_files, size=batch_size), total=len(test_files)//batch_size ):\n",
    "        batch_data = [load_audio_file(fpath) for fpath in batch_files]\n",
    "        batch_data = np.array(batch_data)[:,:,np.newaxis]\n",
    "        preds = model.predict(batch_data).tolist()\n",
    "        list_preds += preds\n",
    "\n",
    "\n",
    "\n",
    "    # In[21]:\n",
    "\n",
    "\n",
    "    array_preds += np.array(list_preds)/bag\n",
    "\n",
    "\n",
    "# In[22]:\n",
    "\n",
    "\n",
    "list_labels = np.array(list_labels)\n",
    "\n",
    "\n",
    "# In[30]:\n",
    "\n",
    "\n",
    "top_3 = list_labels[np.argsort(-array_preds, axis=1)[:, :3]] #https://www.kaggle.com/inversion/freesound-starter-kernel\n",
    "pred_labels = [' '.join(list(x)) for x in top_3]\n",
    "\n",
    "\n",
    "# In[31]:\n",
    "\n",
    "\n",
    "df = pd.DataFrame(test_files, columns=[\"fname\"])\n",
    "df['label'] = pred_labels\n",
    "\n",
    "\n",
    "# In[32]:\n",
    "\n",
    "\n",
    "df['fname'] = df.fname.apply(lambda x: x.split(\"/\")[-1])\n",
    "\n",
    "\n",
    "# In[33]:\n",
    "\n",
    "\n",
    "df.to_csv(\"baseline.csv\", index=False)\n"
   ]
  },
  {
   "cell_type": "code",
   "execution_count": 19,
   "metadata": {
    "collapsed": true
   },
   "outputs": [],
   "source": [
    "import pandas as pd\n",
    "import numpy as np"
   ]
  },
  {
   "cell_type": "code",
   "execution_count": 20,
   "metadata": {
    "collapsed": true
   },
   "outputs": [],
   "source": [
    "df = pd.read_csv('baseline.csv')"
   ]
  },
  {
   "cell_type": "code",
   "execution_count": 31,
   "metadata": {},
   "outputs": [
    {
     "name": "stdout",
     "output_type": "stream",
     "text": [
      "ACCURACY =  97.35449735449735  %\n"
     ]
    }
   ],
   "source": [
    "files = list(df['fname'])\n",
    "#print(files)\n",
    "files = [i.split('_')[0] for i in files]\n",
    "preds = [i.split(' ')[0] for i in list(df['label'])]\n",
    "\n",
    "count = 0\n",
    "for i in range(len(files)):\n",
    "    if(files[i]==preds[i]):\n",
    "        count+=1\n",
    "\n",
    "acc = count/len(files)*100\n",
    "print(\"ACCURACY = \",acc, \" %\")"
   ]
  },
  {
   "cell_type": "code",
   "execution_count": null,
   "metadata": {
    "collapsed": true
   },
   "outputs": [],
   "source": []
  },
  {
   "cell_type": "code",
   "execution_count": null,
   "metadata": {
    "collapsed": true
   },
   "outputs": [],
   "source": []
  }
 ],
 "metadata": {
  "kernelspec": {
   "display_name": "Python 3",
   "language": "python",
   "name": "python3"
  },
  "language_info": {
   "codemirror_mode": {
    "name": "ipython",
    "version": 3
   },
   "file_extension": ".py",
   "mimetype": "text/x-python",
   "name": "python",
   "nbconvert_exporter": "python",
   "pygments_lexer": "ipython3",
   "version": "3.6.3"
  }
 },
 "nbformat": 4,
 "nbformat_minor": 1
}
